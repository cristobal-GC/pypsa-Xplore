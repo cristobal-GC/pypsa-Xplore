{
 "cells": [
  {
   "cell_type": "markdown",
   "metadata": {},
   "source": [
    "# Rule: **determine_availability_matrix**"
   ]
  },
  {
   "cell_type": "markdown",
   "metadata": {},
   "source": [
    "**Outputs**\n",
    "\n",
    "- resources/`availability_matrix_{clusters}_{technology}.nc`"
   ]
  },
  {
   "cell_type": "code",
   "execution_count": null,
   "metadata": {},
   "outputs": [],
   "source": [
    "######################################## Parameters\n",
    "\n",
    "### Run\n",
    "name = ''\n",
    "prefix = ''\n",
    "\n",
    "### Network\n",
    "clusters = 5"
   ]
  },
  {
   "cell_type": "code",
   "execution_count": null,
   "metadata": {},
   "outputs": [],
   "source": [
    "##### Import packages\n",
    "import cartopy.crs as ccrs\n",
    "import matplotlib.pyplot as plt\n",
    "import yaml\n",
    "import os \n",
    "import sys\n",
    "import xarray as xr\n",
    "\n",
    "\n",
    "\n",
    "##### Import local functions\n",
    "sys.path.append(os.path.abspath(os.path.join('..')))\n",
    "import functions as xp\n",
    "\n",
    "\n",
    "##### Read params.yaml\n",
    "with open('../params.yaml', 'r') as configfile:\n",
    "    params = yaml.safe_load(configfile)\n",
    "\n",
    "\n",
    "##### Ignore warnings\n",
    "import warnings\n",
    "warnings.filterwarnings('ignore', category=UserWarning)\n",
    "\n"
   ]
  },
  {
   "cell_type": "markdown",
   "metadata": {},
   "source": [
    "## `availability_matrix_{clusters}_{technology}.nc`"
   ]
  },
  {
   "cell_type": "code",
   "execution_count": null,
   "metadata": {},
   "outputs": [],
   "source": [
    "technology = 'solar'\n",
    "technology = 'onwind'\n",
    "technology = 'offwind-float'"
   ]
  },
  {
   "cell_type": "markdown",
   "metadata": {},
   "source": [
    "Load the availability matrix and show its content."
   ]
  },
  {
   "cell_type": "code",
   "execution_count": null,
   "metadata": {},
   "outputs": [],
   "source": [
    "file = f'availability_matrix_{clusters}_{technology}.nc'\n",
    "path = f'{params['rootpath']}/resources/{prefix}/{name}/'\n",
    "\n",
    "am = xr.open_dataset(path+file)\n",
    "\n",
    "am"
   ]
  },
  {
   "cell_type": "markdown",
   "metadata": {},
   "source": [
    "Plot the unique variable for all the buses (there is no overlap)."
   ]
  },
  {
   "cell_type": "code",
   "execution_count": null,
   "metadata": {},
   "outputs": [],
   "source": [
    "### Get the addition over buses\n",
    "matrix_xy = am['__xarray_dataarray_variable__'].sum(dim='bus')\n",
    "\n",
    "\n",
    "\n",
    "#################### Plot map\n",
    "fig_size = [10, 5]\n",
    "crs = ccrs.PlateCarree()\n",
    "\n",
    "fig, ax = plt.subplots(figsize=fig_size, subplot_kw={'projection': crs})\n",
    "\n",
    "pcm = ax.pcolormesh(am.x, am.y, matrix_xy, cmap='Blues', vmin=0, vmax=1)\n",
    "\n",
    "fig.colorbar(pcm, ax=ax, label=\"Availability\")\n",
    "\n",
    "\n",
    "### Add map features\n",
    "xp.map_add_features(ax, params['map_add_features_line'])\n",
    "\n",
    "\n",
    "### Set map limits\n",
    "ax.set_extent(params['boundaries_offshore'])"
   ]
  }
 ],
 "metadata": {
  "kernelspec": {
   "display_name": "pypsa-eur",
   "language": "python",
   "name": "python3"
  },
  "language_info": {
   "codemirror_mode": {
    "name": "ipython",
    "version": 3
   },
   "file_extension": ".py",
   "mimetype": "text/x-python",
   "name": "python",
   "nbconvert_exporter": "python",
   "pygments_lexer": "ipython3",
   "version": "3.12.9"
  }
 },
 "nbformat": 4,
 "nbformat_minor": 2
}
