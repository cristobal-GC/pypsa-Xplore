{
 "cells": [
  {
   "cell_type": "markdown",
   "metadata": {},
   "source": [
    "# Rule: **retrieve_databundle**"
   ]
  },
  {
   "cell_type": "markdown",
   "metadata": {},
   "source": [
    "**Outputs (selection)**\n",
    "- data/bundle/`h2_salt_caverns_GWh_per_sqkm.geojson`\n",
    "\n",
    "\n"
   ]
  },
  {
   "cell_type": "code",
   "execution_count": null,
   "metadata": {},
   "outputs": [],
   "source": [
    "######################################## Parameters \n",
    "\n",
    "### Run\n",
    "name = ''\n",
    "prefix = ''"
   ]
  },
  {
   "cell_type": "code",
   "execution_count": null,
   "metadata": {},
   "outputs": [],
   "source": [
    "##### Import packages\n",
    "import geopandas as gpd\n",
    "import yaml\n",
    "import cartopy.crs as ccrs\n",
    "import cartopy.feature as cfeature\n",
    "import matplotlib.pyplot as plt \n",
    "import matplotlib\n",
    "import sys\n",
    "import os \n",
    "\n",
    "\n",
    "##### Import local functions\n",
    "sys.path.append(os.path.abspath(os.path.join('..')))\n",
    "import functions as xp\n",
    "\n",
    "\n",
    "##### Read params.yaml\n",
    "with open('../params.yaml', 'r') as configfile:\n",
    "    params = yaml.safe_load(configfile)\n",
    "\n",
    "\n",
    "##### Ignore warnings\n",
    "import warnings\n",
    "warnings.filterwarnings('ignore', category=UserWarning)\n",
    "\n",
    "\n",
    "# ##### Region files\n",
    "# file_NUTS0 = f'NUTS_RG_01M_2021_4326_LEVL_0.geojson'\n",
    "# path_NUTS0 = f'{params['rootpath']}/data/nuts/{prefix}/{name}/'\n",
    "# NUTS0 = gpd.read_file(path_NUTS0+file_NUTS0)"
   ]
  },
  {
   "cell_type": "markdown",
   "metadata": {},
   "source": [
    "## `h2_salt_caverns_GWh_per_sqkm.geojson`"
   ]
  },
  {
   "cell_type": "markdown",
   "metadata": {},
   "source": [
    "Load the file and show its components."
   ]
  },
  {
   "cell_type": "code",
   "execution_count": null,
   "metadata": {},
   "outputs": [],
   "source": [
    "file = f'h2_salt_caverns_GWh_per_sqkm.geojson'\n",
    "path = f'{params['rootpath']}/data/bundle/{prefix}/{name}/'\n",
    "\n",
    "h2_salt_caverns = gpd.read_file(path+file)\n",
    "\n",
    "h2_salt_caverns.head()"
   ]
  },
  {
   "cell_type": "markdown",
   "metadata": {},
   "source": [
    "How many entries are there in the file?"
   ]
  },
  {
   "cell_type": "code",
   "execution_count": null,
   "metadata": {},
   "outputs": [],
   "source": [
    "len(h2_salt_caverns)"
   ]
  },
  {
   "cell_type": "markdown",
   "metadata": {},
   "source": [
    "Plot a map showing the **energy density**."
   ]
  },
  {
   "cell_type": "code",
   "execution_count": null,
   "metadata": {},
   "outputs": [],
   "source": [
    "fig_size = [8,8]\n",
    "crs = ccrs.PlateCarree()\n",
    "fig, ax = plt.subplots(figsize=fig_size, subplot_kw={'projection': crs})\n",
    "limit_spain = False\n",
    "\n",
    "## Plot cavern's energy density\n",
    "xp.map_databundle_h2_salt_caverns(ax, h2_salt_caverns, limit_spain)\n",
    "\n",
    "### Add map features\n",
    "xp.map_add_features(ax, params['map_add_features'])"
   ]
  },
  {
   "cell_type": "markdown",
   "metadata": {},
   "source": [
    "<div style=\"border: 2px solid blue; padding: 30px; border-radius: 5px; background-color: #DDEEFF; color: #00529B; max-width: 38%; margin: auto;\">\n",
    "    💡 <b>Explanatory note</b>: Reasons for different energy densities thoughout different caves.\n",
    "</div>\n",
    "\n",
    "It is assumed that the **temperature** of the hydrogen inside the cavern is equivalent to that of the surrounding rock. Similarly, the pressure of the gas stored within the cavern is governed by the lithostatic **pressure**, adjusted for operational safety margins. This is analogous to how pressure increases when descending into the ocean, with a comparable effect when moving deeper into the Earth's crust. The density used in the calculations must be based on the rock density ($\\rho_{rock}$) of the overlying terrain. \n",
    "\n",
    "By applying the real gas law and considering the compressibility factor (Z), the **minimum and maximum gas densities** can be determined based on the safety margins mentioned above. Using these densities, along with the cavern’s volume, the mass of working gas can be calculated. This mass represents the amount of hydrogen that can be safely stored and extracted from the cavern without exceeding the established pressure safety margins.\n",
    "\n",
    "Given these considerations, the **storage capacity** of a cavern can be determined in terms of $GWh_{H_2}$ by multiplying the mass of hydrogen by its lower heating value (LHV). To facilitate comparison between caverns at different locations, the **energy density** is calculated by dividing the cavern’s capacity by its volume. <u>It varies across different caverns due to changes in density, primarily influenced by each cavern's depth</u>. \n",
    "\n"
   ]
  },
  {
   "cell_type": "markdown",
   "metadata": {},
   "source": [
    "Particularized for Spain"
   ]
  },
  {
   "cell_type": "code",
   "execution_count": null,
   "metadata": {},
   "outputs": [],
   "source": [
    "xp.map_add_features(ax, params['map_add_features'])\n",
    "\n",
    "fig_size = [8,8]\n",
    "crs = ccrs.PlateCarree()\n",
    "fig, ax = plt.subplots(figsize=fig_size, subplot_kw={'projection': crs})\n",
    "limit_spain = True\n",
    "\n",
    "xp.map_databundle_h2_salt_caverns(ax, h2_salt_caverns, limit_spain)\n",
    "xp.map_add_features(ax, params['map_add_features'])"
   ]
  },
  {
   "cell_type": "markdown",
   "metadata": {},
   "source": [
    "Plot a map showing the **capacity per area**."
   ]
  },
  {
   "cell_type": "code",
   "execution_count": null,
   "metadata": {},
   "outputs": [],
   "source": [
    "crs = ccrs.PlateCarree()\n",
    "fig, ax = plt.subplots(figsize=(9,7), subplot_kw={'projection': crs})\n",
    "h2_salt_caverns.plot(ax=ax, column=\"capacity_per_area\", linewidth=0.05,edgecolor=\"black\", legend=True)\n",
    "\n",
    "#We limit the map to the h2 cavern map extent \n",
    "lim_h2=h2_salt_caverns.total_bounds\n",
    "buffer=1.7\n",
    "ax.set_xlim(lim_h2[0]-buffer,lim_h2[2]+buffer)\n",
    "ax.set_ylim(lim_h2[1]-buffer, lim_h2[3]+buffer)\n",
    "ax.set_ylabel(\"Latitude\")\n",
    "ax.set_xlabel(\"Longitude\")\n",
    "ax.set_title(\"Capacity per area\")\n",
    "xp.map_add_features(ax, params['map_add_features'])\n"
   ]
  },
  {
   "cell_type": "markdown",
   "metadata": {},
   "source": [
    "Particularized for Spain"
   ]
  },
  {
   "cell_type": "code",
   "execution_count": null,
   "metadata": {},
   "outputs": [],
   "source": [
    "crs = ccrs.PlateCarree()\n",
    "fig, ax = plt.subplots(figsize=(9,7), subplot_kw={'projection': crs})\n",
    "h2_salt_caverns.plot(ax=ax, column=\"capacity_per_area\", linewidth=0.05,edgecolor=\"black\", legend=True)\n",
    "#We limit the map to Spain Bounds\n",
    "ax.set_xlim(-10,4.5)\n",
    "ax.set_ylim(35, 44.5)\n",
    "ax.set_ylabel(\"Latitude\")\n",
    "ax.set_xlabel(\"Longitude\")\n",
    "ax.set_title(\"Capacity per area\")\n",
    "xp.map_add_features(ax, params['map_add_features'])"
   ]
  }
 ],
 "metadata": {
  "kernelspec": {
   "display_name": "DD_Pypsa_SP_25_02",
   "language": "python",
   "name": "python3"
  },
  "language_info": {
   "codemirror_mode": {
    "name": "ipython",
    "version": 3
   },
   "file_extension": ".py",
   "mimetype": "text/x-python",
   "name": "python",
   "nbconvert_exporter": "python",
   "pygments_lexer": "ipython3",
   "version": "3.12.9"
  }
 },
 "nbformat": 4,
 "nbformat_minor": 2
}
