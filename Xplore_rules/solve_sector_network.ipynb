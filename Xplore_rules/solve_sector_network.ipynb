{
 "cells": [
  {
   "cell_type": "markdown",
   "metadata": {},
   "source": [
    "# Rule: **solve_sector_network**"
   ]
  },
  {
   "cell_type": "markdown",
   "metadata": {},
   "source": [
    "**Outputs**\n",
    "\n",
    "- results/networks/`base_s_{clusters}_{opts}_{sector_opts}_{horizon}.nc`"
   ]
  },
  {
   "cell_type": "code",
   "execution_count": null,
   "metadata": {},
   "outputs": [],
   "source": [
    "######################################## Parameters\n",
    "\n",
    "### Run\n",
    "name = ''\n",
    "prefix = ''\n",
    "\n",
    "### Network\n",
    "clusters = 'adm'\n",
    "opts = ''\n",
    "sector_opts = ''\n",
    "horizon = '2030'"
   ]
  },
  {
   "cell_type": "code",
   "execution_count": null,
   "metadata": {},
   "outputs": [],
   "source": [
    "##### Import packages\n",
    "import pypsa\n",
    "import pandas as pd\n",
    "import cartopy.crs as ccrs\n",
    "import geopandas as gpd\n",
    "import matplotlib.pyplot as plt\n",
    "import matplotlib.colors as mcolors\n",
    "import yaml\n",
    "import os \n",
    "import sys\n",
    "import numpy as np\n",
    "\n",
    "\n",
    "##### Import local functions\n",
    "sys.path.append(os.path.abspath(os.path.join('..')))\n",
    "import functions as xp\n",
    "\n",
    "\n",
    "##### Read params.yaml\n",
    "with open('../params.yaml', 'r') as configfile:\n",
    "    params = yaml.safe_load(configfile)\n",
    "\n",
    "\n",
    "##### Ignore warnings\n",
    "import warnings\n",
    "warnings.filterwarnings('ignore', category=UserWarning)\n",
    "\n",
    "\n",
    "##### Region files\n",
    "file_regions_onshore = f'regions_onshore_base_s_{clusters}.geojson'\n",
    "file_regions_offshore = f'regions_offshore_base_s_{clusters}.geojson'\n",
    "path_regions = f'{params['rootpath']}/resources/{prefix}/{name}/'\n",
    "gdf_regions_onshore = gpd.read_file(path_regions+file_regions_onshore)\n",
    "gdf_regions_offshore = gpd.read_file(path_regions+file_regions_offshore)\n",
    "\n",
    "\n",
    "##### NUTS files (provided by the user, used here to display results at NUTS level. The files must contain at least the columns 'NUTS_ID' and 'geometry')\n",
    "file_NUTS2 = 'NUTS2_ES.geojson'\n",
    "file_NUTS3 = 'NUTS3_ES.geojson'\n",
    "path_NUTS = f'{params['rootpath']}/data_ES/nuts/'\n",
    "# Load NUTS2\n",
    "if os.path.exists(path_NUTS + file_NUTS2):\n",
    "    gdf_NUTS2 = gpd.read_file(path_NUTS + file_NUTS2)\n",
    "else:\n",
    "    print('File NUTS2 not found...')\n",
    "    token_NUTS2_missing = True\n",
    "# Load NUTS3\n",
    "if os.path.exists(path_NUTS + file_NUTS3):\n",
    "    gdf_NUTS3 = gpd.read_file(path_NUTS + file_NUTS3)\n",
    "else:\n",
    "    print('File NUTS3 not found...')\n",
    "    token_NUTS3_missing = True\n"
   ]
  },
  {
   "cell_type": "markdown",
   "metadata": {},
   "source": [
    "## `base_s_{clusters}_{opts}_{sector_opts}_{horizon}.nc`"
   ]
  },
  {
   "cell_type": "markdown",
   "metadata": {},
   "source": [
    "Load the network and show its components."
   ]
  },
  {
   "cell_type": "code",
   "execution_count": null,
   "metadata": {},
   "outputs": [],
   "source": [
    "file = f'base_s_{clusters}_{opts}_{sector_opts}_{horizon}.nc'\n",
    "path = f'{params['rootpath']}/results/{prefix}/{name}/networks/'\n",
    "\n",
    "n = pypsa.Network(path+file)\n",
    "\n",
    "n"
   ]
  },
  {
   "cell_type": "markdown",
   "metadata": {},
   "source": [
    "Plot the initial and optimal networks."
   ]
  },
  {
   "cell_type": "code",
   "execution_count": null,
   "metadata": {},
   "outputs": [],
   "source": [
    "#################### Parameters\n",
    "spatial_domain = 'ES' # 'EU'\n",
    "\n",
    "line_widths_0 = 1*n.lines.s_nom / 1e3\n",
    "link_widths_0 = 1*n.links.p_nom / 1e3\n",
    "\n",
    "line_widths_1 = 1*n.lines.s_nom_opt / 1e3\n",
    "link_widths_1 = 1*n.links.p_nom_opt / 1e3\n",
    "\n",
    "\n",
    "#################### Figure\n",
    "fig_size = [12,12]\n",
    "crs = ccrs.PlateCarree()\n",
    "\n",
    "fig, axes = plt.subplots(1, 2, figsize=fig_size, subplot_kw={'projection': crs})\n",
    "\n",
    "\n",
    "##### Initial network\n",
    "ax0 = axes[0]\n",
    "\n",
    "### Add network\n",
    "n.plot(ax=ax0, \n",
    "       line_widths=line_widths_0, \n",
    "       link_widths=link_widths_0, \n",
    "       bus_sizes=params['bus_sizes'], \n",
    "       bus_colors=params['bus_colors'], \n",
    "       boundaries=params[f'boundaries_offshore_{spatial_domain}'])\n",
    "\n",
    "### Add regions_onshore\n",
    "xp.map_add_region(ax0, gdf_regions_onshore, params['map_add_region'])\n",
    "\n",
    "### Add regions_offshore\n",
    "xp.map_add_region(ax0, gdf_regions_offshore, params['map_add_region'], is_offshore=True)\n",
    "\n",
    "### Add map features\n",
    "xp.map_add_features(ax0, params['map_add_features'])\n",
    "\n",
    "\n",
    "\n",
    "##### Optimal network\n",
    "ax1 = axes[1]\n",
    "\n",
    "### Add network\n",
    "n.plot(ax=ax1, \n",
    "       line_widths=line_widths_1, \n",
    "       link_widths=link_widths_1, \n",
    "       bus_sizes=params['bus_sizes'], \n",
    "       bus_colors=params['bus_colors'], \n",
    "       boundaries=params[f'boundaries_offshore_{spatial_domain}'])\n",
    "\n",
    "### Add regions_onshore\n",
    "xp.map_add_region(ax1, gdf_regions_onshore, params['map_add_region'])\n",
    "\n",
    "### Add regions_offshore\n",
    "xp.map_add_region(ax1, gdf_regions_offshore, params['map_add_region'], is_offshore=True)\n",
    "\n",
    "### Add map features\n",
    "xp.map_add_features(ax1, params['map_add_features'])"
   ]
  },
  {
   "cell_type": "markdown",
   "metadata": {},
   "source": [
    "### Variable: `n.buses`"
   ]
  },
  {
   "cell_type": "markdown",
   "metadata": {},
   "source": [
    "Place `n.buses` in a dataFrame and show its content."
   ]
  },
  {
   "cell_type": "code",
   "execution_count": null,
   "metadata": {},
   "outputs": [],
   "source": [
    "bb = n.buses\n",
    "\n",
    "bb.head()"
   ]
  },
  {
   "cell_type": "markdown",
   "metadata": {},
   "source": [
    "### Variable: `n.carriers`"
   ]
  },
  {
   "cell_type": "markdown",
   "metadata": {},
   "source": [
    "Place `n.carriers` in a dataFrame and show its content."
   ]
  },
  {
   "cell_type": "code",
   "execution_count": null,
   "metadata": {},
   "outputs": [],
   "source": [
    "cc = n.carriers\n",
    "\n",
    "cc.head()"
   ]
  },
  {
   "cell_type": "markdown",
   "metadata": {},
   "source": [
    "### Variable: `n.generators`"
   ]
  },
  {
   "cell_type": "markdown",
   "metadata": {},
   "source": [
    "Place `n.generators` in a dataFrame and show its content."
   ]
  },
  {
   "cell_type": "code",
   "execution_count": null,
   "metadata": {},
   "outputs": [],
   "source": [
    "gg = n.generators\n",
    "\n",
    "gg.head()"
   ]
  },
  {
   "cell_type": "markdown",
   "metadata": {},
   "source": [
    "#### Summary"
   ]
  },
  {
   "cell_type": "markdown",
   "metadata": {},
   "source": [
    "What is the aggregated capacity, initial and optimal, and potential per carrier? "
   ]
  },
  {
   "cell_type": "code",
   "execution_count": null,
   "metadata": {},
   "outputs": [],
   "source": [
    "gg.groupby('carrier').agg(\n",
    "    Total_capacity=pd.NamedAgg(column='p_nom', aggfunc='sum'),\n",
    "    Optimal_capacity=pd.NamedAgg(column='p_nom_opt', aggfunc='sum'),\n",
    "    Total_max_capacity=pd.NamedAgg(column='p_nom_max', aggfunc='sum'),\n",
    ")"
   ]
  },
  {
   "cell_type": "markdown",
   "metadata": {},
   "source": [
    "#### Summary by resource class"
   ]
  },
  {
   "cell_type": "markdown",
   "metadata": {},
   "source": [
    "Solar and wind carries may have classes. Show a table with a feature per bus and class."
   ]
  },
  {
   "cell_type": "code",
   "execution_count": null,
   "metadata": {},
   "outputs": [],
   "source": [
    "#################### Parameters\n",
    "\n",
    "### Select carrier\n",
    "carrier = 'onwind'\n",
    "\n",
    "### Select feature (uncomment one of the following):\n",
    "#feature = 'p_nom'\n",
    "#feature = 'p_nom_max'\n",
    "feature = 'p_nom_opt'\n",
    "\n",
    "\n",
    "\n",
    "#################### Table\n",
    "if ('wind' in carrier or 'solar' in carrier):   \n",
    "    ### Filter\n",
    "    gg_filtered = gg[gg['carrier']==carrier][['bus', 'p_nom', 'p_nom_max', 'p_nom_opt']]\n",
    "    ### Add class column\n",
    "    gg_filtered['resource_class'] = gg_filtered.index.to_series().str.split(\" \").str[-2]\n",
    "    ### MW to GW\n",
    "    gg_filtered[['p_nom', 'p_nom_max', 'p_nom_opt']] = gg_filtered[['p_nom', 'p_nom_max', 'p_nom_opt']]/1000\n",
    "    ### Make pivot\n",
    "    gg_pivot = gg_filtered.pivot(index=\"bus\", columns=\"resource_class\", values=feature)\n",
    "\n",
    "    styled_table = gg_pivot.style \\\n",
    "        .set_caption(f\"Table with {feature} [GW] for {carrier}, according to bus and class.\") \\\n",
    "        .format(\"{:.2f}\") \\\n",
    "        .background_gradient(cmap=\"Blues\")  \n",
    "    \n",
    "    display(styled_table)\n",
    "\n",
    "else:\n",
    "     print(f'Carrier {carrier} is not solar or wind type.. does it contain classes?')\n",
    "\n"
   ]
  },
  {
   "cell_type": "markdown",
   "metadata": {},
   "source": [
    "Add a bar plot showing `p_nom`, `p_nom_opt` and `p_nom_max`"
   ]
  },
  {
   "cell_type": "code",
   "execution_count": null,
   "metadata": {},
   "outputs": [],
   "source": [
    "#################### Parameters\n",
    "\n",
    "## bar width\n",
    "width = 0.3 \n",
    "\n",
    "\n",
    "\n",
    "\n",
    "#################### Figure\n",
    "\n",
    "df_sorted = gg_filtered.sort_values([\"bus\", \"resource_class\"])\n",
    "\n",
    "buses = df_sorted[\"bus\"].unique()\n",
    "resources = df_sorted[\"resource_class\"].unique()\n",
    "\n",
    "x = np.arange(len(buses))                 \n",
    "offsets = np.linspace(-width/2.5, width/2.5, len(resources))  \n",
    "\n",
    "\n",
    "fig, ax = plt.subplots(figsize=(12, 8))\n",
    "\n",
    "colors = {\n",
    "    \"p_nom_max\": \"#cfe2f3\",\n",
    "    \"p_nom_opt\": \"#4daf4a\",\n",
    "    \"p_nom\": \"#08306b\"\n",
    "}\n",
    "\n",
    "\n",
    "metrics_order = [\"p_nom_max\", \"p_nom_opt\", \"p_nom\"]\n",
    "\n",
    "# To control added labels\n",
    "labels_added = set()\n",
    "\n",
    "for i, res in enumerate(resources):\n",
    "    df_res = df_sorted[df_sorted[\"resource_class\"] == res]\n",
    "    pos = x + offsets[i]\n",
    "    \n",
    "    for metric in metrics_order:\n",
    "        label = metric if metric not in labels_added else None\n",
    "        ax.bar(\n",
    "            pos,\n",
    "            df_res[metric],\n",
    "            width=width/len(resources),\n",
    "            color=colors[metric],\n",
    "            alpha=0.7,\n",
    "            label=label\n",
    "        )\n",
    "        labels_added.add(metric)\n",
    "\n",
    "ax.set_xticks(x)\n",
    "ax.grid(axis=\"y\", linestyle=\"--\", alpha=0.6)\n",
    "ax.set_xlabel(\"Bus\", fontsize=16)\n",
    "ax.set_ylabel(\"Capacity [GW]\", fontsize=16)\n",
    "ax.set_xticklabels(buses, fontsize=14)\n",
    "ax.tick_params(axis=\"y\", labelsize=14)\n",
    "ax.legend(fontsize=14)\n",
    "\n",
    "plt.tight_layout()\n"
   ]
  },
  {
   "cell_type": "markdown",
   "metadata": {},
   "source": [
    "#### Maps"
   ]
  },
  {
   "cell_type": "markdown",
   "metadata": {},
   "source": [
    "Plot a map showing a particular feature of a generation carrier at each region.\n",
    "\n",
    "Then, show another map with the same information aggregated to a certain NUTS level (weighted with ovelap area)."
   ]
  },
  {
   "cell_type": "code",
   "execution_count": null,
   "metadata": {},
   "outputs": [],
   "source": [
    "#################### Parameters\n",
    "\n",
    "### Select carrier\n",
    "carrier = 'onwind'\n",
    "\n",
    "### For solar & onwind carriers, select the class number ('all' to aggregate all classes)\n",
    "resource_class = 'all'\n",
    "\n",
    "### Select feature (uncomment one of the following):\n",
    "# feature = 'area' \n",
    "# feature = 'p_nom'\n",
    "# feature = 'p_nom_density'\n",
    "# feature = 'p_nom_max'\n",
    "# feature = 'p_nom_max_density'\n",
    "#feature = 'p_nom_max_ratio'\n",
    "feature = 'p_nom_opt'\n",
    "# feature = 'p_nom_opt_density'\n",
    "# feature = 'p_nom_opt_max_ratio'\n",
    "\n",
    "\n",
    "\n",
    "#################### Local params\n",
    "params_local = {}\n",
    "params_local['vmin'] = ''   # Leave empty for automatic value \n",
    "params_local['vmax'] = ''   # Leave empty for automatic value\n",
    "\n",
    "\n",
    "\n",
    "#################### Figure\n",
    "fig_size = [12,6]\n",
    "crs = ccrs.PlateCarree()\n",
    "\n",
    "fig, ax = plt.subplots(figsize=fig_size, subplot_kw={'projection': crs})\n",
    "\n",
    "\n",
    "### Define gdf_regions\n",
    "if 'off' in carrier:\n",
    "    gdf_regions = gdf_regions_offshore\n",
    "else:\n",
    "    gdf_regions = gdf_regions_onshore\n",
    "\n",
    "\n",
    "### Add map features\n",
    "xp.map_add_features(ax, params['map_add_features'])\n",
    "\n",
    "### Add network feature at regions\n",
    "xp.map_network_generators(carrier, n, feature, ax, gdf_regions, resource_class, params['map_network_generators'], params_local)"
   ]
  },
  {
   "cell_type": "code",
   "execution_count": null,
   "metadata": {},
   "outputs": [],
   "source": [
    "#################### Parameters\n",
    "\n",
    "### Select NUTS level\n",
    "NUTS_level = 2\n",
    "\n",
    "\n",
    "\n",
    "#################### Local params\n",
    "params_local = {}\n",
    "params_local['vmin'] = ''   # Leave empty for automatic value \n",
    "params_local['vmax'] = ''   # Leave empty for automatic value\n",
    "\n",
    "\n",
    "\n",
    "if 'off' in carrier:\n",
    "    print('Aggregation at NUTS level for offshore is not possible')\n",
    "else:\n",
    "    #################### Figure\n",
    "    fig_size = [12,6]\n",
    "    crs = ccrs.PlateCarree()\n",
    "\n",
    "    fig, ax = plt.subplots(figsize=fig_size, subplot_kw={'projection': crs})\n",
    "\n",
    "\n",
    "    ### Define gdf_regions\n",
    "    gdf_regions = gdf_regions_onshore\n",
    "\n",
    "\n",
    "    ### Define NUTS file\n",
    "    if NUTS_level==2:\n",
    "        gdf_NUTS = gdf_NUTS2\n",
    "    if NUTS_level==3:\n",
    "        gdf_NUTS = gdf_NUTS3    \n",
    "\n",
    "\n",
    "    ### Add map features\n",
    "    xp.map_add_features(ax, params['map_add_features'])\n",
    "\n",
    "    ### Add network feature aggregated at NUTS regions\n",
    "    xp.map_NUTS_generators(carrier, n, f'{feature}_NUTS', ax, gdf_regions, gdf_NUTS, resource_class, params['map_NUTS_generators'], params_local)\n"
   ]
  },
  {
   "cell_type": "markdown",
   "metadata": {},
   "source": [
    "#### Costs"
   ]
  },
  {
   "cell_type": "markdown",
   "metadata": {},
   "source": [
    "What is the capital cost of generators?"
   ]
  },
  {
   "cell_type": "code",
   "execution_count": null,
   "metadata": {},
   "outputs": [],
   "source": [
    "#################### Parameters\n",
    "\n",
    "### Select carriers\n",
    "carrier_list = ['onwind', 'solar', 'offwind-float']\n",
    "\n",
    "\n",
    "\n",
    "#################### Figure\n",
    "fig_size = [10,5]\n",
    "fig, ax = plt.subplots(1,1,figsize=fig_size)\n",
    "\n",
    "# Give a message with the carriers not considered\n",
    "carrier_all = gg['carrier'].unique().tolist()\n",
    "carrier_excluded = [carrier for carrier in carrier_all if carrier not in carrier_list]\n",
    "print(f'Carriers ommitted: {carrier_excluded}')\n",
    "\n",
    "# Define bins\n",
    "minimo = 0 # 0.95 * gg.loc[ gg['carrier'].isin(carrier_list), 'capital_cost'].min()\n",
    "maximo = 1.05 * gg.loc[ gg['carrier'].isin(carrier_list), 'capital_cost'].max()\n",
    "ancho = 1000\n",
    "\n",
    "bins = np.arange(minimo, maximo, 1000)\n",
    "\n",
    "# Define colors\n",
    "tech_colors = n.carriers['color']\n",
    "\n",
    "\n",
    "for carrier in carrier_list:\n",
    "\n",
    "    ##### Filter the carrier\n",
    "    df = gg[gg['carrier']==carrier]\n",
    "\n",
    "\n",
    "    ##### Only single cost for the carrier\n",
    "    if df['capital_cost'].round(2).nunique()==1:\n",
    "\n",
    "        valor = df['capital_cost'].unique()[0]\n",
    "\n",
    "        ax.axvline(x=valor, label=carrier, color = tech_colors[carrier])\n",
    "\n",
    "        print(f'Capital cost for {carrier} is: {valor:.2f} EUR/MW·year')\n",
    "\n",
    "    ##### Different costs for the carrier\n",
    "    else:\n",
    "        plt.hist(df['capital_cost'], bins=bins, \n",
    "                 edgecolor='none', color = tech_colors[carrier],\n",
    "                 label=carrier, alpha=1)\n",
    "        \n",
    "        valor = df['capital_cost'].mean()\n",
    "        print(f'Average capital cost for {carrier} is: {valor:.2f} EUR/MW·year')\n",
    "\n",
    "\n",
    "ax.set_title('capital cost')\n",
    "ax.set_xlabel('EUR/(MW·year)')\n",
    "ax.legend()\n",
    "ax.grid(True, linestyle='--', alpha=0.5)"
   ]
  },
  {
   "cell_type": "markdown",
   "metadata": {},
   "source": [
    "### Variable: `n.generators_t[p_max_pu]`"
   ]
  },
  {
   "cell_type": "markdown",
   "metadata": {},
   "source": [
    "Place `n.generators_t[p_max_pu]` in a dataFrame and show its content."
   ]
  },
  {
   "cell_type": "code",
   "execution_count": null,
   "metadata": {},
   "outputs": [],
   "source": [
    "ggt_pmaxpu = n.generators_t['p_max_pu']\n",
    "\n",
    "ggt_pmaxpu.head()"
   ]
  },
  {
   "cell_type": "markdown",
   "metadata": {},
   "source": [
    "#### Time series"
   ]
  },
  {
   "cell_type": "markdown",
   "metadata": {},
   "source": [
    "How do the potential generation time series look like?"
   ]
  },
  {
   "cell_type": "code",
   "execution_count": null,
   "metadata": {},
   "outputs": [],
   "source": [
    "#################### Parameters\n",
    "\n",
    "### Select carrier\n",
    "carrier = 'onwind'\n",
    "\n",
    "### For solar & onwind carriers, select the class number ('all' to plot all classes individually)\n",
    "resource_class = 'all'\n",
    "    \n",
    "### Define period\n",
    "start = '2023-03-01'\n",
    "end = '2023-03-10'\n",
    "\n",
    "\n",
    "\n",
    "#################### Figure\n",
    "fig_size = [10,4]\n",
    "fig, ax = plt.subplots(figsize=fig_size)\n",
    "\n",
    "if ('wind' in carrier or 'solar' in carrier) and resource_class != 'all':\n",
    "    ggt_pmaxpu.loc[start:end].filter(like=f'{resource_class} {carrier}').plot(ax=ax, alpha=.7, legend=False, linewidth=.5)\n",
    "else:\n",
    "    ggt_pmaxpu.loc[start:end].filter(like=carrier).plot(ax=ax, alpha=.7, legend=False, linewidth=.5)\n",
    "\n",
    "ax.grid(True, linestyle='--', alpha=0.25)\n",
    "ax.set_ylabel('')"
   ]
  },
  {
   "cell_type": "markdown",
   "metadata": {},
   "source": [
    "#### Summary by resource class"
   ]
  },
  {
   "cell_type": "markdown",
   "metadata": {},
   "source": [
    "Solar and wind carries may have classes. Show a table with a feature per bus and class."
   ]
  },
  {
   "cell_type": "code",
   "execution_count": null,
   "metadata": {},
   "outputs": [],
   "source": [
    "#################### Parameters\n",
    "\n",
    "### Select carrier\n",
    "carrier = 'onwind'\n",
    "\n",
    "### Select feature (uncomment one of the following):\n",
    "feature = 'CF'\n",
    "\n",
    "\n",
    "\n",
    "#################### Table\n",
    "if ('wind' in carrier or 'solar' in carrier):   \n",
    "    ### Filter\n",
    "    ggt_pmaxpu_filtered = ggt_pmaxpu.filter(like=carrier, axis=1).mean().to_frame(name='CF')\n",
    "    ### Add class and bus columns. Use multi-index with 'bus' and 'carrier'    \n",
    "    split_index = ggt_pmaxpu_filtered.index.to_series().str.rsplit(' ', n=2, expand=True)\n",
    "    ggt_pmaxpu_filtered['bus'] = split_index[0].values\n",
    "    ggt_pmaxpu_filtered['resource_class'] = split_index[1].astype(int) # resource_class as integer    \n",
    "    ### Make pivot\n",
    "    ggt_pmaxpu_pivot = ggt_pmaxpu_filtered.pivot(index=\"bus\", columns=\"resource_class\", values=feature)\n",
    "\n",
    "    styled_table = ggt_pmaxpu_pivot.style \\\n",
    "        .set_caption(f\"Table with {feature} for {carrier}, according to bus and class.\") \\\n",
    "        .format(\"{:.3f}\") \\\n",
    "        .background_gradient(cmap=\"Blues\")\n",
    "    \n",
    "    display(styled_table)\n",
    "else:\n",
    "    print(f'Carrier {carrier} is not solar or wind type.. does it contain pmax_pu and classes?')\n"
   ]
  },
  {
   "cell_type": "markdown",
   "metadata": {},
   "source": [
    "Add a bar plot showing `CF`"
   ]
  },
  {
   "cell_type": "code",
   "execution_count": null,
   "metadata": {},
   "outputs": [],
   "source": [
    "#################### Parameters\n",
    "\n",
    "## bar width\n",
    "width = 0.3 \n",
    "\n",
    "\n",
    "\n",
    "\n",
    "#################### Figure\n",
    "\n",
    "df_sorted = ggt_pmaxpu_filtered.sort_values([\"bus\", \"resource_class\"])\n",
    "\n",
    "buses = df_sorted[\"bus\"].unique()\n",
    "resources = df_sorted[\"resource_class\"].unique()\n",
    "\n",
    "x = np.arange(len(buses))                 \n",
    "offsets = np.linspace(-width/2.5, width/2.5, len(resources))  \n",
    "\n",
    "\n",
    "fig, ax = plt.subplots(figsize=(12, 8))\n",
    "\n",
    "colors = {\n",
    "    \"CF\": \"#bc91d8\",\n",
    "}\n",
    "\n",
    "\n",
    "metrics_order = [\"CF\"]\n",
    "\n",
    "# To control added labels\n",
    "labels_added = set()\n",
    "\n",
    "for i, res in enumerate(resources):\n",
    "    df_res = df_sorted[df_sorted[\"resource_class\"] == res]\n",
    "    pos = x + offsets[i]\n",
    "    \n",
    "    for metric in metrics_order:\n",
    "        label = metric if metric not in labels_added else None\n",
    "        ax.bar(\n",
    "            pos,\n",
    "            df_res[metric],\n",
    "            width=width/len(resources),\n",
    "            color=colors[metric],\n",
    "            alpha=0.7,\n",
    "            label=label\n",
    "        )\n",
    "        labels_added.add(metric)\n",
    "\n",
    "ax.set_xticks(x)\n",
    "ax.grid(axis=\"y\", linestyle=\"--\", alpha=0.6)\n",
    "ax.set_xlabel(\"Bus\", fontsize=16)\n",
    "ax.set_ylabel(\"CF\", fontsize=16)\n",
    "ax.set_xticklabels(buses, fontsize=14)\n",
    "ax.tick_params(axis=\"y\", labelsize=14)\n",
    "ax.legend(fontsize=14)\n",
    "\n",
    "plt.tight_layout()\n"
   ]
  },
  {
   "cell_type": "markdown",
   "metadata": {},
   "source": [
    "#### Maps"
   ]
  },
  {
   "cell_type": "markdown",
   "metadata": {},
   "source": [
    "Plot a map showing a particular feature of the potential generation for a carrier at each region."
   ]
  },
  {
   "cell_type": "code",
   "execution_count": null,
   "metadata": {},
   "outputs": [],
   "source": [
    "#################### Parameters\n",
    "\n",
    "##### Select carrier:\n",
    "carrier = 'onwind'\n",
    "\n",
    "### For solar & onwind carriers, select the class number (note that here, 'all' is not valid)\n",
    "resource_class = 0\n",
    "\n",
    "##### Select feature (uncomment one of the following):\n",
    "feature = 'CF' \n",
    "\n",
    "\n",
    "\n",
    "#################### Local params\n",
    "params_local = {}\n",
    "params_local['vmin'] = ''   # Leave empty for automatic value \n",
    "params_local['vmax'] = ''   # Leave empty for automatic value\n",
    "\n",
    "\n",
    "\n",
    "#################### Figure\n",
    "fig_size = [12,6]\n",
    "crs = ccrs.PlateCarree()\n",
    "\n",
    "fig, ax = plt.subplots(figsize=fig_size, subplot_kw={'projection': crs})\n",
    "\n",
    "\n",
    "### Define gdf_regions\n",
    "if 'off' in carrier:\n",
    "    gdf_regions = gdf_regions_offshore\n",
    "else:\n",
    "    gdf_regions = gdf_regions_onshore\n",
    "\n",
    "\n",
    "### Add map features\n",
    "xp.map_add_features(ax, params['map_add_features'])\n",
    "\n",
    "### Add network feature at regions\n",
    "xp.map_network_generatorst_pmaxpu(carrier, n, feature, ax, gdf_regions, params['map_network_generatorst_pmaxpu'], params_local, resource_class)"
   ]
  },
  {
   "cell_type": "markdown",
   "metadata": {},
   "source": [
    "### Variable: `n.generators_t[p]`"
   ]
  },
  {
   "cell_type": "markdown",
   "metadata": {},
   "source": [
    "Place `n.generators_t[p]` in a dataFrame and show its content."
   ]
  },
  {
   "cell_type": "code",
   "execution_count": null,
   "metadata": {},
   "outputs": [],
   "source": [
    "ggt_p = n.generators_t['p']\n",
    "\n",
    "ggt_p.head()"
   ]
  },
  {
   "cell_type": "markdown",
   "metadata": {},
   "source": [
    "#### Time series"
   ]
  },
  {
   "cell_type": "markdown",
   "metadata": {},
   "source": [
    "How do the dispatched generation time series look like?"
   ]
  },
  {
   "cell_type": "code",
   "execution_count": null,
   "metadata": {},
   "outputs": [],
   "source": [
    "#################### Parameters\n",
    "carrier = 'onwind'\n",
    "\n",
    "### For solar & onwind carriers, select the class number ('all' to plot all classes individually)\n",
    "resource_class = 'all'\n",
    "\n",
    "### Define period\n",
    "start = '2023-03-01'\n",
    "end = '2023-03-10'\n",
    "\n",
    "\n",
    "\n",
    "#################### Figure\n",
    "fig_size = [10,4]\n",
    "fig, ax = plt.subplots(figsize=fig_size)\n",
    "\n",
    "if ('wind' in carrier or 'solar' in carrier) and resource_class != 'all':\n",
    "    ggt_p.loc[start:end].filter(like=f'{resource_class} {carrier}').plot(ax=ax, alpha=.7, legend=False, linewidth=.5)\n",
    "else:\n",
    "    ggt_p.loc[start:end].filter(like=carrier).plot(ax=ax, alpha=.7, legend=False, linewidth=.5)\n",
    "\n",
    "ax.grid(True, linestyle='--', alpha=0.25)\n",
    "ax.set_ylabel('MW')"
   ]
  },
  {
   "cell_type": "markdown",
   "metadata": {},
   "source": [
    "#### Summary by resource class"
   ]
  },
  {
   "cell_type": "markdown",
   "metadata": {},
   "source": [
    "Solar and wind carries may have classes. Show a table with a feature per bus and class."
   ]
  },
  {
   "cell_type": "code",
   "execution_count": null,
   "metadata": {},
   "outputs": [],
   "source": [
    "#################### Parameters\n",
    "\n",
    "### Select carrier\n",
    "carrier = 'onwind'\n",
    "\n",
    "### Select feature (uncomment one of the following):\n",
    "feature = 'AEP'\n",
    "\n",
    "\n",
    "\n",
    "#################### Table\n",
    "if ('wind' in carrier or 'solar' in carrier):   \n",
    "    ### Filter\n",
    "    ggt_p_filtered = ggt_p.filter(like=carrier, axis=1).sum().to_frame(name='AEP')\n",
    "    ### Add class and bus columns. Use multi-index with 'bus' and 'carrier'    \n",
    "    split_index = ggt_p_filtered.index.to_series().str.rsplit(' ', n=2, expand=True)\n",
    "    ggt_p_filtered['bus'] = split_index[0].values\n",
    "    ggt_p_filtered['resource_class'] = split_index[1].astype(int) # resource_class as integer    \n",
    "    ### MWh to TWh\n",
    "    ggt_p_filtered[['AEP']] = ggt_p_filtered[['AEP']]/1000000\n",
    "    ### Make pivot\n",
    "    ggt_p_pivot = ggt_p_filtered.pivot(index=\"bus\", columns=\"resource_class\", values=feature)\n",
    "\n",
    "    styled_table = ggt_p_pivot.style \\\n",
    "        .set_caption(f\"Table with {feature} [TWh] for {carrier}, according to bus and class.\") \\\n",
    "        .format(\"{:.3f}\") \\\n",
    "        .background_gradient(cmap=\"Blues\")\n",
    "    \n",
    "    display(styled_table)\n",
    "else:\n",
    "    print(f'Carrier {carrier} is not solar or wind type.. does it contain pmax_pu and classes?')\n"
   ]
  },
  {
   "cell_type": "markdown",
   "metadata": {},
   "source": [
    "Add a bar plot showing `AEP`"
   ]
  },
  {
   "cell_type": "code",
   "execution_count": null,
   "metadata": {},
   "outputs": [],
   "source": [
    "#################### Parameters\n",
    "\n",
    "## bar width\n",
    "width = 0.3 \n",
    "\n",
    "\n",
    "\n",
    "\n",
    "#################### Figure\n",
    "\n",
    "df_sorted = ggt_p_filtered.sort_values([\"bus\", \"resource_class\"])\n",
    "\n",
    "buses = df_sorted[\"bus\"].unique()\n",
    "resources = df_sorted[\"resource_class\"].unique()\n",
    "\n",
    "x = np.arange(len(buses))                 \n",
    "offsets = np.linspace(-width/2.5, width/2.5, len(resources))  \n",
    "\n",
    "\n",
    "fig, ax = plt.subplots(figsize=(12, 8))\n",
    "\n",
    "colors = {\n",
    "    \"AEP\": \"#93c543\",\n",
    "}\n",
    "\n",
    "\n",
    "metrics_order = [\"AEP\"]\n",
    "\n",
    "# To control added labels\n",
    "labels_added = set()\n",
    "\n",
    "for i, res in enumerate(resources):\n",
    "    df_res = df_sorted[df_sorted[\"resource_class\"] == res]\n",
    "    pos = x + offsets[i]\n",
    "    \n",
    "    for metric in metrics_order:\n",
    "        label = metric if metric not in labels_added else None\n",
    "        ax.bar(\n",
    "            pos,\n",
    "            df_res[metric],\n",
    "            width=width/len(resources),\n",
    "            color=colors[metric],\n",
    "            alpha=0.7,\n",
    "            label=label\n",
    "        )\n",
    "        labels_added.add(metric)\n",
    "\n",
    "ax.set_xticks(x)\n",
    "ax.grid(axis=\"y\", linestyle=\"--\", alpha=0.6)\n",
    "ax.set_xlabel(\"Bus\", fontsize=16)\n",
    "ax.set_ylabel(\"AEP [TWh]\", fontsize=16)\n",
    "ax.set_xticklabels(buses, fontsize=14)\n",
    "ax.tick_params(axis=\"y\", labelsize=14)\n",
    "ax.legend(fontsize=14)\n",
    "\n",
    "plt.tight_layout()\n"
   ]
  },
  {
   "cell_type": "markdown",
   "metadata": {},
   "source": [
    "#### Maps"
   ]
  },
  {
   "cell_type": "markdown",
   "metadata": {},
   "source": [
    "Plot a map showing a particular feature of the potential generation for a carrier at each region."
   ]
  },
  {
   "cell_type": "code",
   "execution_count": null,
   "metadata": {},
   "outputs": [],
   "source": [
    "#################### Parameters\n",
    "\n",
    "##### Select carrier:\n",
    "carrier = 'onwind'\n",
    "\n",
    "### For solar & onwind carriers, select the class number ('all' to aggregate all classes)\n",
    "resource_class = 'all'\n",
    "\n",
    "##### Select feature (uncomment one of the following):\n",
    "feature = 'AEP' \n",
    "\n",
    "\n",
    "\n",
    "#################### Local params\n",
    "params_local = {}\n",
    "params_local['vmin'] = ''   # Leave empty for automatic value \n",
    "params_local['vmax'] = ''   # Leave empty for automatic value\n",
    "\n",
    "\n",
    "\n",
    "#################### Figure\n",
    "fig_size = [12,6]\n",
    "crs = ccrs.PlateCarree()\n",
    "\n",
    "fig, ax = plt.subplots(figsize=fig_size, subplot_kw={'projection': crs})\n",
    "\n",
    "\n",
    "### Define gdf_regions\n",
    "if 'off' in carrier:\n",
    "    gdf_regions = gdf_regions_offshore\n",
    "else:\n",
    "    gdf_regions = gdf_regions_onshore\n",
    "\n",
    "\n",
    "### Add map features\n",
    "xp.map_add_features(ax, params['map_add_features'])\n",
    "\n",
    "### Add network feature at regions\n",
    "xp.map_network_generatorst_p(carrier, n, feature, ax, gdf_regions, resource_class, params['map_network_generatorst_p'], params_local)"
   ]
  },
  {
   "cell_type": "markdown",
   "metadata": {},
   "source": [
    "### Variable: `n.global_constraints`"
   ]
  },
  {
   "cell_type": "markdown",
   "metadata": {},
   "source": [
    "Place `n.global_constraints` in a dataFrame and show its content."
   ]
  },
  {
   "cell_type": "code",
   "execution_count": null,
   "metadata": {},
   "outputs": [],
   "source": [
    "gc = n.global_constraints\n",
    "\n",
    "gc"
   ]
  },
  {
   "cell_type": "markdown",
   "metadata": {},
   "source": [
    "### Variable: `n.lines`"
   ]
  },
  {
   "cell_type": "markdown",
   "metadata": {},
   "source": [
    "Place `n.lines` in a dataFrame and show its content."
   ]
  },
  {
   "cell_type": "code",
   "execution_count": null,
   "metadata": {},
   "outputs": [],
   "source": [
    "ln = n.lines\n",
    "\n",
    "ln.head()"
   ]
  },
  {
   "cell_type": "markdown",
   "metadata": {},
   "source": [
    "How is the distribution of line lengths?"
   ]
  },
  {
   "cell_type": "code",
   "execution_count": null,
   "metadata": {},
   "outputs": [],
   "source": [
    "#################### Parameters\n",
    "bins = 50\n",
    "\n",
    "\n",
    "\n",
    "#################### Figure\n",
    "fig_size = [10,4]\n",
    "fig, ax = plt.subplots(figsize=fig_size)\n",
    "\n",
    "\n",
    "ax.hist(ln['length'], bins=bins, edgecolor='black')\n",
    "\n",
    "ax.set_xlabel('km')\n",
    "ax.grid(True, linestyle='--', alpha=0.5)"
   ]
  },
  {
   "cell_type": "markdown",
   "metadata": {},
   "source": [
    "How is the relationship between line capital costs and line length?"
   ]
  },
  {
   "cell_type": "code",
   "execution_count": null,
   "metadata": {},
   "outputs": [],
   "source": [
    "#################### Figure\n",
    "fig_size = [10,4]\n",
    "fig, ax = plt.subplots(figsize=fig_size)\n",
    "\n",
    "\n",
    "ln.plot(ax=ax, kind='scatter', x='length', y='capital_cost')\n",
    "\n",
    "ax.set_xlabel('km')\n",
    "ax.set_ylabel('EUR/MW')\n",
    "ax.grid(True, linestyle='--', alpha=0.5)\n",
    "\n",
    "\n",
    "ratio = ln['capital_cost']/ln['length']\n",
    "\n",
    "print(f'The ratio values of capital cost vs. length  are {ratio.round(2).unique()} EUR/(MW·km)')"
   ]
  },
  {
   "cell_type": "markdown",
   "metadata": {},
   "source": [
    "### Variable: `n.links`"
   ]
  },
  {
   "cell_type": "markdown",
   "metadata": {},
   "source": [
    "Place `n.links` in a dataFrame and show its content."
   ]
  },
  {
   "cell_type": "code",
   "execution_count": null,
   "metadata": {},
   "outputs": [],
   "source": [
    "lk = n.links\n",
    "\n",
    "lk.head()"
   ]
  },
  {
   "cell_type": "markdown",
   "metadata": {},
   "source": [
    "Show the carriers associated with links."
   ]
  },
  {
   "cell_type": "code",
   "execution_count": null,
   "metadata": {},
   "outputs": [],
   "source": [
    "lk['carrier'].drop_duplicates().reset_index(drop=True)"
   ]
  },
  {
   "cell_type": "markdown",
   "metadata": {},
   "source": [
    "#### Link type: DC"
   ]
  },
  {
   "cell_type": "markdown",
   "metadata": {},
   "source": [
    "Place DC links in a dataFrame and show its content. Include interconnections."
   ]
  },
  {
   "cell_type": "code",
   "execution_count": null,
   "metadata": {},
   "outputs": [],
   "source": [
    "lk_DC = lk[lk['carrier'].isin(['DC', 'DC_ic export', 'DC_ic import'])]\n",
    "\n",
    "lk_DC.head()"
   ]
  },
  {
   "cell_type": "markdown",
   "metadata": {},
   "source": [
    "How is the distribution of DC link lengths?"
   ]
  },
  {
   "cell_type": "code",
   "execution_count": null,
   "metadata": {},
   "outputs": [],
   "source": [
    "#################### Parameters\n",
    "bins = 50\n",
    "\n",
    "\n",
    "\n",
    "#################### Figure\n",
    "fig_size = [10,4]\n",
    "fig, ax = plt.subplots(figsize=fig_size)\n",
    "\n",
    "\n",
    "ax.hist(lk_DC['length'], bins=bins, edgecolor='black')\n",
    "\n",
    "ax.set_xlabel('km')\n",
    "ax.grid(True, linestyle='--', alpha=0.5)"
   ]
  },
  {
   "cell_type": "markdown",
   "metadata": {},
   "source": [
    "How is the relationship between DC link capital costs and link length?"
   ]
  },
  {
   "cell_type": "code",
   "execution_count": null,
   "metadata": {},
   "outputs": [],
   "source": [
    "#################### Figure\n",
    "fig_size = [10,4]\n",
    "fig, ax = plt.subplots(figsize=fig_size)\n",
    "\n",
    "\n",
    "lk_DC.plot(ax=ax, kind='scatter', x='length', y='capital_cost')\n",
    "\n",
    "ax.set_xlabel('km')\n",
    "ax.set_ylabel('EUR')\n",
    "ax.grid(True, linestyle='--', alpha=0.5)\n",
    "\n",
    "\n",
    "ratio = lk_DC['capital_cost']/lk_DC['length']\n",
    "\n",
    "print(f'The ratio values of capital cost vs. length  are {ratio.round(2).unique()} EUR/km')"
   ]
  },
  {
   "cell_type": "markdown",
   "metadata": {},
   "source": [
    "#### Link types: CCGT, OCGT, H2 Electrolysis, H2 Fuell cell, H2 turbine, battery charger, battery discharger"
   ]
  },
  {
   "cell_type": "markdown",
   "metadata": {},
   "source": [
    "**NOTE**: Links represent different elements in the network. The aggregated capacity per carrier may need to be divided by the efficiency to properly reflect the capacity. For example, for CCGT, the link represents the conversion from gas to electricity, and the associated capacity refers to the input node. However, the CCGT capacity refers to the power capacity (output node).\n",
    "\n",
    "In the following, **\"_e\"** is added to express \"electric\" (power output, the efficiency is included)."
   ]
  },
  {
   "cell_type": "markdown",
   "metadata": {},
   "source": [
    "##### Maps"
   ]
  },
  {
   "cell_type": "markdown",
   "metadata": {},
   "source": [
    "Plot a map showing a particular feature of a link carrier at each region.\n",
    "\n",
    "Then, show another map with the same information aggregated to a certain NUTS level (weighted with ovelap area)."
   ]
  },
  {
   "cell_type": "code",
   "execution_count": null,
   "metadata": {},
   "outputs": [],
   "source": [
    "#################### Parameters\n",
    "\n",
    "### Select carrier (uncomment one of the following)\n",
    "carrier = 'CCGT'\n",
    "# carrier = 'OCGT'\n",
    "# carrier = 'H2 Electrolysis'\n",
    "# carrier = 'H2 Fuel Cell'\n",
    "# carrier = 'battery charger'\n",
    "# carrier = 'battery discharger'\n",
    "# carrier = 'H2 turbine'\n",
    "\n",
    "\n",
    "### Select feature (uncomment one of the following):\n",
    "# feature = 'area' \n",
    "# feature = 'p_nom_e'\n",
    "feature = 'p_nom_e_opt'\n",
    "\n",
    "\n",
    "\n",
    "#################### Local params\n",
    "params_local = {}\n",
    "params_local['vmin'] = ''   # Leave empty for automatic value \n",
    "params_local['vmax'] = ''   # Leave empty for automatic value\n",
    "\n",
    "\n",
    "\n",
    "#################### Figure\n",
    "fig_size = [12,6]\n",
    "crs = ccrs.PlateCarree()\n",
    "\n",
    "fig, ax = plt.subplots(figsize=fig_size, subplot_kw={'projection': crs})\n",
    "\n",
    "\n",
    "### Add map features\n",
    "xp.map_add_features(ax, params['map_add_features'])\n",
    "\n",
    "### Add network feature at regions\n",
    "xp.map_network_links(carrier, n, feature, ax, gdf_regions_onshore, params['map_network_links'], params_local)"
   ]
  },
  {
   "cell_type": "code",
   "execution_count": null,
   "metadata": {},
   "outputs": [],
   "source": [
    "#################### Parameters\n",
    "\n",
    "### Select NUTS level\n",
    "NUTS_level = 3\n",
    "\n",
    "\n",
    "\n",
    "#################### Local params\n",
    "params_local = {}\n",
    "params_local['vmin'] = ''   # Leave empty for automatic value \n",
    "params_local['vmax'] = ''   # Leave empty for automatic value\n",
    "\n",
    "\n",
    "\n",
    "#################### Figure\n",
    "fig_size = [12,6]\n",
    "crs = ccrs.PlateCarree()\n",
    "\n",
    "fig, ax = plt.subplots(figsize=fig_size, subplot_kw={'projection': crs})\n",
    "\n",
    "\n",
    "### Define NUTS file\n",
    "if NUTS_level==2:\n",
    "    gdf_NUTS = gdf_NUTS2\n",
    "if NUTS_level==3:\n",
    "    gdf_NUTS = gdf_NUTS3    \n",
    "\n",
    "\n",
    "### Add map features\n",
    "xp.map_add_features(ax, params['map_add_features'])\n",
    "\n",
    "### Add network feature aggregated at NUTS regions\n",
    "xp.map_NUTS_links(carrier, n, f'{feature}_NUTS', ax, gdf_regions_onshore, gdf_NUTS, params['map_NUTS_links'], params_local)"
   ]
  },
  {
   "cell_type": "markdown",
   "metadata": {},
   "source": [
    "### Variable: `n.loads_t[p_set]`"
   ]
  },
  {
   "cell_type": "markdown",
   "metadata": {},
   "source": [
    "Place `n.loads_t[p_set]` in a dataFrame and show its content."
   ]
  },
  {
   "cell_type": "code",
   "execution_count": null,
   "metadata": {},
   "outputs": [],
   "source": [
    "lot_pset = n.loads_t['p_set']\n",
    "\n",
    "lot_pset.head()"
   ]
  },
  {
   "cell_type": "markdown",
   "metadata": {},
   "source": [
    "#### Time series"
   ]
  },
  {
   "cell_type": "markdown",
   "metadata": {},
   "source": [
    "How do the load time series look like?"
   ]
  },
  {
   "cell_type": "code",
   "execution_count": null,
   "metadata": {},
   "outputs": [],
   "source": [
    "#################### Parameters\n",
    "start = '2023-01-01'\n",
    "end = '2023-01-31'\n",
    "\n",
    "##### Select sector demand (uncomment one of the following)\n",
    "select_sector = 'all'   # No filtering\n",
    "# select_sector = 'land transport EV'   # Only columns with name 'land transport EV'\n",
    "\n",
    "\n",
    "\n",
    "#################### Operations\n",
    "if select_sector == 'all':\n",
    "    lot_pset_filtered = lot_pset\n",
    "\n",
    "if select_sector == 'land transport EV':\n",
    "    lot_pset_filtered = lot_pset.filter(like=select_sector, axis=1)\n",
    "\n",
    "\n",
    "\n",
    "#################### Figure\n",
    "fig_size = [10,4]\n",
    "fig, ax = plt.subplots(figsize=fig_size)\n",
    "\n",
    "lot_pset_filtered.loc[start:end].plot(ax=ax, alpha=.8, legend=False, linewidth=.5)\n",
    "\n",
    "ax.grid(True, linestyle='--', alpha=1)\n",
    "ax.set_ylabel('MW')"
   ]
  },
  {
   "cell_type": "markdown",
   "metadata": {},
   "source": [
    "#### Maps"
   ]
  },
  {
   "cell_type": "markdown",
   "metadata": {},
   "source": [
    "Plot a map showing a particular feature of the load at each region.\n",
    "\n",
    "Then, show another map with the same information aggregated to a certain NUTS level (weighted with ovelap area)."
   ]
  },
  {
   "cell_type": "code",
   "execution_count": null,
   "metadata": {},
   "outputs": [],
   "source": [
    "#################### Parameters\n",
    "\n",
    "### Select feature (uncomment one of the following):\n",
    "# feature = 'area' \n",
    "# feature = 'annual_load'\n",
    "feature = 'annual_load_density'\n",
    "\n",
    "\n",
    "\n",
    "#################### Local params\n",
    "params_local = {}\n",
    "params_local['vmin'] = ''   # Leave empty for automatic value \n",
    "params_local['vmax'] = ''   # Leave empty for automatic value\n",
    "\n",
    "\n",
    "\n",
    "#################### Figure\n",
    "fig_size = [12,6]\n",
    "crs = ccrs.PlateCarree()\n",
    "\n",
    "fig, ax = plt.subplots(figsize=fig_size, subplot_kw={'projection': crs})\n",
    "\n",
    "\n",
    "### Add map features\n",
    "xp.map_add_features(ax, params['map_add_features'])\n",
    "\n",
    "### Add network feature at regions\n",
    "xp.map_network_loadst_pset(n, feature, ax, gdf_regions_onshore, params['map_network_loadst_pset'], params_local)"
   ]
  },
  {
   "cell_type": "code",
   "execution_count": null,
   "metadata": {},
   "outputs": [],
   "source": [
    "#################### Parameters\n",
    "\n",
    "### Select NUTS level\n",
    "NUTS_level = 2\n",
    "\n",
    "\n",
    "\n",
    "#################### Local params\n",
    "params_local = {}\n",
    "params_local['vmin'] = ''   # Leave empty for automatic value \n",
    "params_local['vmax'] = ''   # Leave empty for automatic value\n",
    "\n",
    "\n",
    "\n",
    "#################### Figure\n",
    "fig_size = [12,6]\n",
    "crs = ccrs.PlateCarree()\n",
    "\n",
    "fig, ax = plt.subplots(figsize=fig_size, subplot_kw={'projection': crs})\n",
    "\n",
    "\n",
    "### Define NUTS file\n",
    "if NUTS_level==2:\n",
    "    gdf_NUTS = gdf_NUTS2\n",
    "if NUTS_level==3:\n",
    "    gdf_NUTS = gdf_NUTS3    \n",
    "\n",
    "\n",
    "### Add map features\n",
    "xp.map_add_features(ax, params['map_add_features'])\n",
    "\n",
    "### Add network feature aggregated at NUTS regions\n",
    "xp.map_NUTS_loadst_pset(n, f'{feature}_NUTS', ax, gdf_regions_onshore, gdf_NUTS, params['map_NUTS_loadst_pset'], params_local)"
   ]
  },
  {
   "cell_type": "markdown",
   "metadata": {},
   "source": [
    "### Variable: `n.storage_units`"
   ]
  },
  {
   "cell_type": "markdown",
   "metadata": {},
   "source": [
    "Place `n.storage_units` in a dataFrame and show its content."
   ]
  },
  {
   "cell_type": "code",
   "execution_count": null,
   "metadata": {},
   "outputs": [],
   "source": [
    "su = n.storage_units\n",
    "\n",
    "su.head()"
   ]
  },
  {
   "cell_type": "markdown",
   "metadata": {},
   "source": [
    "#### Summary"
   ]
  },
  {
   "cell_type": "markdown",
   "metadata": {},
   "source": [
    "What is the aggregated capacity per carrier? \n",
    "\n",
    "How many buses have storage units for each carrier? How many of them have zero capacity?"
   ]
  },
  {
   "cell_type": "code",
   "execution_count": null,
   "metadata": {},
   "outputs": [],
   "source": [
    "su.groupby('carrier').agg(\n",
    "    Total_capacity=pd.NamedAgg(column='p_nom', aggfunc='sum'),\n",
    "    Buses=pd.NamedAgg(column='p_nom', aggfunc='size'),\n",
    "    Buses_zero_capacity=pd.NamedAgg(column='p_nom', aggfunc=lambda x: (x == 0).sum()),\n",
    "    Buses_non_zero_capacity=pd.NamedAgg(column='p_nom', aggfunc=lambda x: (x != 0).sum()),\n",
    ")"
   ]
  },
  {
   "cell_type": "markdown",
   "metadata": {},
   "source": [
    "#### Maps"
   ]
  },
  {
   "cell_type": "markdown",
   "metadata": {},
   "source": [
    "Plot a map showing a particular feature of a storage unit carrier at each region.\n",
    "\n",
    "Then, show another map with the same information aggregated to a certain NUTS level (weighted with ovelap area)."
   ]
  },
  {
   "cell_type": "code",
   "execution_count": null,
   "metadata": {},
   "outputs": [],
   "source": [
    "#################### Parameters\n",
    "\n",
    "### Select carrier\n",
    "carrier = 'PHS'\n",
    "\n",
    "### Select feature (uncomment one of the following):\n",
    "# feature = 'area' \n",
    "# feature = 'p_nom'\n",
    "# feature = 'p_nom_density'\n",
    "feature = 'max_hours'\n",
    "\n",
    "\n",
    "\n",
    "#################### Local params\n",
    "params_local = {}\n",
    "params_local['vmin'] = ''   # Leave empty for automatic value \n",
    "params_local['vmax'] = ''   # Leave empty for automatic value\n",
    "\n",
    "\n",
    "\n",
    "#################### Figure\n",
    "fig_size = [12,6]\n",
    "crs = ccrs.PlateCarree()\n",
    "\n",
    "fig, ax = plt.subplots(figsize=fig_size, subplot_kw={'projection': crs})\n",
    "\n",
    "\n",
    "### Add map features\n",
    "xp.map_add_features(ax, params['map_add_features'])\n",
    "\n",
    "### Add network feature at regions\n",
    "xp.map_network_storage_units(carrier, n, feature, ax, gdf_regions_onshore, params['map_network_storage_units'], params_local)"
   ]
  },
  {
   "cell_type": "code",
   "execution_count": null,
   "metadata": {},
   "outputs": [],
   "source": [
    "#################### Parameters\n",
    "\n",
    "### Select NUTS level\n",
    "NUTS_level = 2\n",
    "\n",
    "\n",
    "\n",
    "#################### Local params\n",
    "params_local = {}\n",
    "params_local['vmin'] = ''   # Leave empty for automatic value \n",
    "params_local['vmax'] = ''   # Leave empty for automatic value\n",
    "\n",
    "\n",
    "\n",
    "#################### Figure\n",
    "fig_size = [12,6]\n",
    "crs = ccrs.PlateCarree()\n",
    "\n",
    "fig, ax = plt.subplots(figsize=fig_size, subplot_kw={'projection': crs})\n",
    "\n",
    "\n",
    "### Define NUTS file\n",
    "if NUTS_level==2:\n",
    "    gdf_NUTS = gdf_NUTS2\n",
    "if NUTS_level==3:\n",
    "    gdf_NUTS = gdf_NUTS3    \n",
    "\n",
    "\n",
    "### Add map features\n",
    "xp.map_add_features(ax, params['map_add_features'])\n",
    "\n",
    "### Add network feature aggregated at NUTS regions\n",
    "xp.map_NUTS_storage_units(carrier, n, f'{feature}_NUTS', ax, gdf_regions_onshore, gdf_NUTS, params['map_NUTS_storage_units'], params_local)"
   ]
  },
  {
   "cell_type": "markdown",
   "metadata": {},
   "source": [
    "#### Maximum hours"
   ]
  },
  {
   "cell_type": "markdown",
   "metadata": {},
   "source": [
    "What is the relation between installed capacity and max. hours, for each carrier?"
   ]
  },
  {
   "cell_type": "code",
   "execution_count": null,
   "metadata": {},
   "outputs": [],
   "source": [
    "#################### Figure\n",
    "fig_size = [8,4]\n",
    "fig, ax = plt.subplots(figsize=fig_size)\n",
    "\n",
    "tech_colors = n.carriers['color']\n",
    "\n",
    "for carrier, group in su.groupby('carrier'):\n",
    "    ax.scatter(group['p_nom'], group['max_hours'], label=carrier, color=tech_colors[carrier], alpha=0.7)\n",
    "\n",
    "ax.set_xlabel('Installed capacity [MW]')\n",
    "ax.set_ylabel('Max. hours')\n",
    "ax.set_title('Storage units')\n",
    "ax.grid(True, linestyle='--', alpha=0.5)\n",
    "ax.legend()"
   ]
  },
  {
   "cell_type": "markdown",
   "metadata": {},
   "source": [
    "### Variable: `n.stores`"
   ]
  },
  {
   "cell_type": "markdown",
   "metadata": {},
   "source": [
    "Place `n.stores` in a dataFrame and show its content."
   ]
  },
  {
   "cell_type": "code",
   "execution_count": null,
   "metadata": {},
   "outputs": [],
   "source": [
    "st = n.stores\n",
    "\n",
    "st.head()"
   ]
  },
  {
   "cell_type": "markdown",
   "metadata": {},
   "source": [
    "Show the carriers associated with stores."
   ]
  },
  {
   "cell_type": "code",
   "execution_count": null,
   "metadata": {},
   "outputs": [],
   "source": [
    "st['carrier'].drop_duplicates().reset_index(drop=True)"
   ]
  },
  {
   "cell_type": "markdown",
   "metadata": {},
   "source": [
    "#### Maps"
   ]
  },
  {
   "cell_type": "markdown",
   "metadata": {},
   "source": [
    "Plot a map showing a particular feature of a store carrier at each region.\n",
    "\n",
    "Then, show another map with the same information aggregated to a certain NUTS level (weighted with ovelap area)."
   ]
  },
  {
   "cell_type": "code",
   "execution_count": null,
   "metadata": {},
   "outputs": [],
   "source": [
    "#################### Parameters\n",
    "\n",
    "### Select carrier (uncomment one of the following):\n",
    "carrier = 'battery'\n",
    "# carrier = 'H2 Store'\n",
    "\n",
    "### Select feature (uncomment one of the following):\n",
    "feature = 'e_nom_opt'\n",
    "\n",
    "\n",
    "\n",
    "#################### Local params\n",
    "params_local = {}\n",
    "params_local['vmin'] = ''   # Leave empty for automatic value \n",
    "params_local['vmax'] = ''   # Leave empty for automatic value\n",
    "\n",
    "\n",
    "\n",
    "#################### Figure\n",
    "fig_size = [12,6]\n",
    "crs = ccrs.PlateCarree()\n",
    "\n",
    "fig, ax = plt.subplots(figsize=fig_size, subplot_kw={'projection': crs})\n",
    "\n",
    "\n",
    "### Add map features\n",
    "xp.map_add_features(ax, params['map_add_features'])\n",
    "\n",
    "### Add network feature at regions\n",
    "xp.map_network_stores(carrier, n, feature, ax, gdf_regions_onshore, params['map_network_stores'], params_local)"
   ]
  },
  {
   "cell_type": "code",
   "execution_count": null,
   "metadata": {},
   "outputs": [],
   "source": [
    "#################### Parameters\n",
    "\n",
    "### Select NUTS level\n",
    "NUTS_level = 3\n",
    "\n",
    "\n",
    "\n",
    "#################### Local params\n",
    "params_local = {}\n",
    "params_local['vmin'] = ''   # Leave empty for automatic value \n",
    "params_local['vmax'] = ''   # Leave empty for automatic value\n",
    "\n",
    "\n",
    "\n",
    "#################### Figure\n",
    "fig_size = [12,6]\n",
    "crs = ccrs.PlateCarree()\n",
    "\n",
    "fig, ax = plt.subplots(figsize=fig_size, subplot_kw={'projection': crs})\n",
    "\n",
    "\n",
    "### Define NUTS file\n",
    "if NUTS_level==2:\n",
    "    gdf_NUTS = gdf_NUTS2\n",
    "if NUTS_level==3:\n",
    "    gdf_NUTS = gdf_NUTS3    \n",
    "\n",
    "\n",
    "\n",
    "### Add map features\n",
    "xp.map_add_features(ax, params['map_add_features'])\n",
    "\n",
    "### Add network feature aggregated at NUTS regions\n",
    "xp.map_NUTS_stores(carrier, n, f'{feature}_NUTS', ax, gdf_regions_onshore, gdf_NUTS, params['map_NUTS_stores'], params_local)"
   ]
  },
  {
   "cell_type": "markdown",
   "metadata": {},
   "source": [
    "### Analysis: Capacity expansion"
   ]
  },
  {
   "cell_type": "markdown",
   "metadata": {},
   "source": [
    "Make a summary of initial and optimal capacities.\n",
    "\n",
    "**Note:** Capacity associated to links `CCGT`, `OCGT`, `H2 Fuel Cell` and `battery discharger` have been multiplied by efficiencies to consider output power."
   ]
  },
  {
   "cell_type": "code",
   "execution_count": null,
   "metadata": {},
   "outputs": [],
   "source": [
    "#################### Get summary\n",
    "\n",
    "df_capacities = xp.df_network_capacities(n)\n",
    "\n",
    "df_capacities"
   ]
  },
  {
   "cell_type": "markdown",
   "metadata": {},
   "source": [
    "Plot for a selection of carriers."
   ]
  },
  {
   "cell_type": "code",
   "execution_count": null,
   "metadata": {},
   "outputs": [],
   "source": [
    "#################### Parameters\n",
    "carrier_list = ['solar', 'onwind', 'offwind-float', 'CCGT', 'DC', 'battery charger' ]\n",
    "\n",
    "\n",
    "#################### Figure\n",
    "fig_size = [10,6]\n",
    "\n",
    "fig, ax = plt.subplots(figsize=fig_size)\n",
    "\n",
    "df_capacities.loc[carrier_list].plot(kind='bar',rot=45, ax=ax)\n",
    "\n",
    "ax.grid(True, linestyle='--', linewidth=0.5, color='black', alpha=0.25)"
   ]
  },
  {
   "cell_type": "markdown",
   "metadata": {},
   "source": [
    "### Analysis: Grid expansion"
   ]
  },
  {
   "cell_type": "markdown",
   "metadata": {},
   "source": [
    "If enabled, optimation includes grid expansion for lines and links.\n",
    "\n",
    "Where was grid expansion required?"
   ]
  },
  {
   "cell_type": "markdown",
   "metadata": {},
   "source": [
    "Plot the network showing the increase of line capacities (if any)."
   ]
  },
  {
   "cell_type": "code",
   "execution_count": null,
   "metadata": {},
   "outputs": [],
   "source": [
    "#################### Parameters\n",
    "line_widths = 1*(n.lines.s_nom_opt-n.lines.s_nom) / 1e3\n",
    "link_widths = 1*(n.links.p_nom_opt-n.links.p_nom) / 1e3\n",
    "\n",
    "\n",
    "\n",
    "#################### Figure\n",
    "fig_size = [12,12]\n",
    "crs = ccrs.PlateCarree()\n",
    "\n",
    "fig, ax = plt.subplots(figsize=fig_size, subplot_kw={'projection': crs})\n",
    "\n",
    "\n",
    "### Add network\n",
    "n.plot(ax=ax, \n",
    "       line_widths=line_widths, \n",
    "       link_widths=link_widths, \n",
    "       bus_sizes=params['bus_sizes'], \n",
    "       bus_colors=params['bus_colors'], \n",
    "       boundaries=params[f'boundaries_offshore_{spatial_domain}'])\n",
    "\n",
    "### Add regions_onshore\n",
    "xp.map_add_region(ax, gdf_regions_onshore, params['map_add_region'])\n",
    "\n",
    "### Add regions_offshore\n",
    "xp.map_add_region(ax, gdf_regions_offshore, params['map_add_region'], is_offshore=True)\n",
    "\n",
    "### Add map features\n",
    "xp.map_add_features(ax, params['map_add_features'])"
   ]
  },
  {
   "cell_type": "markdown",
   "metadata": {},
   "source": [
    "### Analysis: Grid congestion"
   ]
  },
  {
   "cell_type": "markdown",
   "metadata": {},
   "source": [
    "Where are the bottlenecks in the grid from the optimal dispatch?"
   ]
  },
  {
   "cell_type": "markdown",
   "metadata": {},
   "source": [
    "Plot the network showing the level of congestion."
   ]
  },
  {
   "cell_type": "code",
   "execution_count": null,
   "metadata": {},
   "outputs": [],
   "source": [
    "#################### Parameters\n",
    "\n",
    "### Select criterion\n",
    "# cong_criterion = ('mean', 'na')\n",
    "cong_criterion = ('quantile', 0.9)\n",
    "\n",
    "\n",
    "### Define line widths\n",
    "line_widths = 1*(n.lines.s_nom_opt) / 1e3\n",
    "\n",
    "##### WIP\n",
    "### Define link widths\n",
    "# first all at zero, then change those that are relevant\n",
    "link_widths = 0*(n.links.p_nom_opt) / 1e3 \n",
    "# # Set values to DC links and DC_ic_export links (export links will later include link activity in both directions)\n",
    "# lk_DC = lk[lk['carrier'].isin(['DC', 'DC_ic export'])]\n",
    "# link_widths.loc[lk_DC.index] = 1 * lk_DC['p_nom_opt'] / 1e3\n",
    "\n",
    "\n",
    "# #################### Time series with line loads (positive and negative)\n",
    "lnt_p0 = n.lines_t['p0']\n",
    "##### WIP\n",
    "# lkt_p0 = n.links_t['p0']\n",
    "##### WIP\n",
    "\n",
    "\n",
    "\n",
    "# ##### for interconnections\n",
    "# # \n",
    "# for interconnection in n.links.loc[n.links.index.str.contains('export')].index:\n",
    "#     try:\n",
    "#         join_power = lkt_p0[interconnection] + lkt_p0[interconnection.replace('export', 'import')]\n",
    "#         lkt_p0[interconnection] = join_power        \n",
    "#     except KeyError:\n",
    "#         join_power = 0\n",
    "        \n",
    "    \n",
    "\n",
    "\n",
    "# # for link with Balearic islands\n",
    "# for interconnection in n.links.loc[n.links.index.str.contains('relation')].index:\n",
    "#     if 'reversed' not in interconnection:\n",
    "#         try:\n",
    "#             join_power = lkt_p0[interconnection] - lkt_p0[f'{interconnection}-reversed']\n",
    "#             lkt_p0[interconnection] = join_power\n",
    "#             lkt_p0[f'{interconnection}-reversed'] = join_power\n",
    "#         except KeyError:\n",
    "#             join_power = 0\n",
    "\n",
    "\n",
    "\n",
    "\n",
    "#################### Get the line_colors\n",
    "\n",
    "if cong_criterion[0] == 'mean':\n",
    "    ln_result_criterion = lnt_p0.abs().mean() / n.lines['s_nom']\n",
    "    # lk_result_criterion = lkt_p0.abs().mean() / n.links['p_nom']\n",
    "    title_cb = 'Mean of line CF'\n",
    "if cong_criterion[0] == 'quantile':\n",
    "    ln_result_criterion = lnt_p0.abs().quantile(cong_criterion[1]) / n.lines['s_nom']\n",
    "    # lk_result_criterion = lkt_p0.abs().quantile(cong_criterion[1]) / n.links['p_nom']\n",
    "    title_cb = f'Q{cong_criterion[1]} of line CF'\n",
    "\n",
    "ln_result_criterion\n",
    "\n",
    "norm = mcolors.Normalize(vmin=0, vmax=0.7)\n",
    "cmap = plt.cm.rainbow  # You can choose any colormap you like\n",
    "\n",
    "ln_colors = [cmap(norm(p)) for p in ln_result_criterion]\n",
    "# lk_colors = [cmap(norm(p)) for p in lk_result_criterion]\n",
    "\n",
    "\n",
    "\n",
    "#################### Figure\n",
    "fig_size = [12,12]\n",
    "crs = ccrs.PlateCarree()\n",
    "\n",
    "fig, ax = plt.subplots(figsize=fig_size, subplot_kw={'projection': crs})\n",
    "\n",
    "\n",
    "### Add network\n",
    "n.plot(ax=ax, \n",
    "       line_widths=line_widths, \n",
    "       link_widths=link_widths, \n",
    "       line_colors=ln_colors, \n",
    "       #link_colors=lk_colors,\n",
    "       bus_sizes=params['bus_sizes'], \n",
    "       bus_colors=params['bus_colors'], \n",
    "       boundaries=params[f'boundaries_offshore_{spatial_domain}']\n",
    "       )\n",
    "\n",
    "\n",
    "# Create a ScalarMappable for the colorbar\n",
    "sm = plt.cm.ScalarMappable(cmap=cmap, norm=norm)\n",
    "sm.set_array([])  # Required for compatibility with colorbar creation\n",
    "# Add the colorbar to the figure\n",
    "cbar = fig.colorbar(sm, ax=ax, orientation='vertical', shrink=0.55, pad=0.02)\n",
    "cbar.set_label(title_cb, fontsize=12)\n",
    "\n",
    "\n",
    "### Add regions_onshore\n",
    "xp.map_add_region(ax, gdf_regions_onshore, params['map_add_region'])\n",
    "\n",
    "### Add map features\n",
    "xp.map_add_features(ax, params['map_add_features'])\n",
    "\n",
    "\n"
   ]
  },
  {
   "cell_type": "markdown",
   "metadata": {},
   "source": [
    "### Analysis: Interconnections"
   ]
  },
  {
   "cell_type": "markdown",
   "metadata": {},
   "source": [
    "This analysis is only for PyPSA-Spain, with the interconnections enabled.\n",
    "\n",
    "What are the energy imports and exports?"
   ]
  },
  {
   "cell_type": "code",
   "execution_count": null,
   "metadata": {},
   "outputs": [],
   "source": [
    "exports_t = n.links_t['p0'].filter(like='export')\n",
    "imports_t = -n.links_t['p1'].filter(like='import')\n",
    "\n",
    "import_sums = imports_t.div(1e6).sum()\n",
    "export_sums = exports_t.div(1e6).sum()\n",
    "\n",
    "import_bar = pd.DataFrame(import_sums).T\n",
    "export_bar = pd.DataFrame(export_sums).T\n",
    "\n",
    "import_bar.index = ['Imports']\n",
    "export_bar.index = ['Exports']\n",
    "\n",
    "combined = pd.concat([import_bar, export_bar])\n",
    "\n",
    "colors = ['#1f77b4', \n",
    "          '#709cdf',\n",
    "          '#2ca02c',\n",
    "          '#4dd148']\n",
    "\n",
    "\n",
    "#################### Figure\n",
    "fig_size = [6,6]\n",
    "fig, ax = plt.subplots(figsize=fig_size)\n",
    "\n",
    "combined.plot(kind='bar', stacked=True, color=colors, ax=ax)\n",
    "\n",
    "ax.set_ylabel(\"TWh\")\n",
    "ax.legend()\n",
    "ax.grid(True, linestyle='--', linewidth=0.5, color='black', alpha=0.25)"
   ]
  }
 ],
 "metadata": {
  "kernelspec": {
   "display_name": "pypsa-spain",
   "language": "python",
   "name": "python3"
  },
  "language_info": {
   "codemirror_mode": {
    "name": "ipython",
    "version": 3
   },
   "file_extension": ".py",
   "mimetype": "text/x-python",
   "name": "python",
   "nbconvert_exporter": "python",
   "pygments_lexer": "ipython3",
   "version": "3.12.11"
  }
 },
 "nbformat": 4,
 "nbformat_minor": 2
}
