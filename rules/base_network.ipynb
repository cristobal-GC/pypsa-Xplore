{
 "cells": [
  {
   "cell_type": "markdown",
   "metadata": {},
   "source": [
    "# Rule: **base_network**"
   ]
  },
  {
   "cell_type": "markdown",
   "metadata": {},
   "source": [
    "**Outputs**\n",
    "\n",
    "- resources/networks/`base.nc`\n",
    "- resources/`regions_onshore.geojson`\n",
    "- resources/`regions_offshore.geojson`\n"
   ]
  },
  {
   "cell_type": "code",
   "execution_count": null,
   "metadata": {},
   "outputs": [],
   "source": [
    "##### Import packages\n",
    "import pypsa\n",
    "import pandas as pd\n",
    "import cartopy.crs as ccrs\n",
    "import geopandas as gpd\n",
    "import matplotlib.pyplot as plt\n",
    "import yaml\n",
    "import os \n",
    "import sys\n",
    "\n",
    "##### Import local functions\n",
    "\n",
    "\n",
    "##### Read parameters.yaml\n",
    "with open('../parameters.yaml', 'r') as configfile:\n",
    "    parameters = yaml.safe_load(configfile)\n",
    "\n",
    "\n",
    "##### Ignore warnings\n",
    "import warnings\n",
    "warnings.filterwarnings('ignore', category=UserWarning)"
   ]
  },
  {
   "cell_type": "code",
   "execution_count": null,
   "metadata": {},
   "outputs": [],
   "source": [
    "######################################## Case parameters\n",
    "\n",
    "name = '00_reference'\n",
    "prefix = '1H'"
   ]
  },
  {
   "cell_type": "markdown",
   "metadata": {},
   "source": [
    "## `base.nc`"
   ]
  },
  {
   "cell_type": "markdown",
   "metadata": {},
   "source": [
    "Load the network and show components."
   ]
  },
  {
   "cell_type": "code",
   "execution_count": null,
   "metadata": {},
   "outputs": [],
   "source": [
    "file = f'base.nc'\n",
    "path = f'{parameters['rootpath']}/resources/{prefix}/{name}/networks/'\n",
    "\n",
    "n = pypsa.Network(path+file)\n",
    "\n",
    "n"
   ]
  },
  {
   "cell_type": "markdown",
   "metadata": {},
   "source": [
    "Plot the network."
   ]
  },
  {
   "cell_type": "code",
   "execution_count": null,
   "metadata": {},
   "outputs": [],
   "source": [
    "#################### Parameters\n",
    "bus_sizes = 0.0008\n",
    "bus_colors = 'black'\n",
    "line_widths = 1*n.lines.s_nom / 1e3\n",
    "\n",
    "\n",
    "\n",
    "#################### Figure\n",
    "fig_size = [12,12]\n",
    "crs = ccrs.PlateCarree()\n",
    "\n",
    "fig, ax = plt.subplots(figsize=fig_size, subplot_kw={'projection': crs})\n",
    "\n",
    "\n",
    "### Add network\n",
    "n.plot(ax=ax, bus_sizes=bus_sizes, bus_colors=bus_colors, line_widths=line_widths)"
   ]
  },
  {
   "cell_type": "markdown",
   "metadata": {},
   "source": [
    "## `regions_onshore.geojson`"
   ]
  },
  {
   "cell_type": "markdown",
   "metadata": {},
   "source": [
    "Load the file and show the content."
   ]
  },
  {
   "cell_type": "code",
   "execution_count": null,
   "metadata": {},
   "outputs": [],
   "source": [
    "file = f'regions_onshore.geojson'\n",
    "path = f'{parameters['rootpath']}/resources/{prefix}/{name}/'\n",
    "\n",
    "gdf_regions_onshore = gpd.read_file(path+file)\n",
    "\n",
    "\n",
    "gdf_regions_onshore.head()"
   ]
  },
  {
   "cell_type": "markdown",
   "metadata": {},
   "source": [
    "## `regions_offshore.geojson`"
   ]
  }
 ],
 "metadata": {
  "kernelspec": {
   "display_name": "pypsa-eur",
   "language": "python",
   "name": "python3"
  },
  "language_info": {
   "codemirror_mode": {
    "name": "ipython",
    "version": 3
   },
   "file_extension": ".py",
   "mimetype": "text/x-python",
   "name": "python",
   "nbconvert_exporter": "python",
   "pygments_lexer": "ipython3",
   "version": "3.12.5"
  }
 },
 "nbformat": 4,
 "nbformat_minor": 2
}
