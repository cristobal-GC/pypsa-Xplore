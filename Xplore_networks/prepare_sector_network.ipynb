{
 "cells": [
  {
   "cell_type": "markdown",
   "metadata": {},
   "source": [
    "# Rule: **prepare_sector_network**"
   ]
  },
  {
   "cell_type": "markdown",
   "metadata": {},
   "source": [
    "**Outputs**\n",
    "\n",
    "- results/prenetworks/`elec_s{simpl}_{clusters}_l{ll}_{opts}_{sector_opts}_{horizons}.nc`"
   ]
  },
  {
   "cell_type": "code",
   "execution_count": null,
   "metadata": {},
   "outputs": [],
   "source": [
    "######################################## Parameters\n",
    "\n",
    "### Run\n",
    "name = 'co2_05'\n",
    "prefix = 'add'\n",
    "\n",
    "### Network\n",
    "simpl = ''\n",
    "clusters = 100\n",
    "ll = 'v1.0'\n",
    "opts = ''\n",
    "sector_opts = ''\n",
    "horizons = '2030'"
   ]
  },
  {
   "cell_type": "code",
   "execution_count": null,
   "metadata": {},
   "outputs": [],
   "source": [
    "##### Import packages\n",
    "import pypsa\n",
    "import pandas as pd\n",
    "import cartopy.crs as ccrs\n",
    "import geopandas as gpd\n",
    "import matplotlib.pyplot as plt\n",
    "import yaml\n",
    "import os \n",
    "import sys\n",
    "import numpy as np\n",
    "\n",
    "\n",
    "##### Import local functions\n",
    "sys.path.append(os.path.abspath(os.path.join('..')))\n",
    "import functions as xp\n",
    "\n",
    "\n",
    "##### Read params.yaml\n",
    "with open('../params.yaml', 'r') as configfile:\n",
    "    params = yaml.safe_load(configfile)\n",
    "\n",
    "\n",
    "##### Ignore warnings\n",
    "import warnings\n",
    "warnings.filterwarnings('ignore', category=UserWarning)\n",
    "\n",
    "\n",
    "##### Region files\n",
    "file_regions_onshore = f'regions_onshore_elec_s{simpl}_{clusters}.geojson'\n",
    "file_regions_offshore = f'regions_offshore_elec_s{simpl}_{clusters}.geojson'\n",
    "path_regions = f'{params['rootpath']}/resources/{prefix}/{name}/'\n",
    "gdf_regions_onshore = gpd.read_file(path_regions+file_regions_onshore)\n",
    "gdf_regions_offshore = gpd.read_file(path_regions+file_regions_offshore)\n",
    "\n",
    "\n",
    "##### NUTS files (must contain at least columns 'NUTS_ID' and 'geometry')\n",
    "file_NUTS2 = 'NUTS2_ES.geojson'\n",
    "file_NUTS3 = 'NUTS3_ES.geojson'\n",
    "path_NUTS = f'{params['rootpath']}/data_ES/nuts/'\n",
    "gdf_NUTS2 = gpd.read_file(path_NUTS+file_NUTS2)\n",
    "gdf_NUTS3 = gpd.read_file(path_NUTS+file_NUTS3)\n"
   ]
  },
  {
   "cell_type": "markdown",
   "metadata": {},
   "source": [
    "## `elec_s{simpl}_{clusters}_l{ll}_{opts}_{sector_opts}_{horizons}.nc`"
   ]
  },
  {
   "cell_type": "markdown",
   "metadata": {},
   "source": [
    "Load the network and show its components."
   ]
  },
  {
   "cell_type": "code",
   "execution_count": null,
   "metadata": {},
   "outputs": [],
   "source": [
    "file = f'elec_s{simpl}_{clusters}_l{ll}_{opts}_{sector_opts}_{horizons}.nc'\n",
    "path = f'{params['rootpath']}/results/{prefix}/{name}/prenetworks/'\n",
    "\n",
    "n = pypsa.Network(path+file)\n",
    "\n",
    "n"
   ]
  },
  {
   "cell_type": "markdown",
   "metadata": {},
   "source": [
    "Plot the network."
   ]
  },
  {
   "cell_type": "code",
   "execution_count": null,
   "metadata": {},
   "outputs": [],
   "source": [
    "#################### Parameters\n",
    "line_widths = 1*n.lines.s_nom / 1e3\n",
    "\n",
    "\n",
    "\n",
    "#################### Figure\n",
    "fig_size = [12,12]\n",
    "crs = ccrs.PlateCarree()\n",
    "\n",
    "fig, ax = plt.subplots(figsize=fig_size, subplot_kw={'projection': crs})\n",
    "\n",
    "\n",
    "### Add network\n",
    "n.plot(ax=ax, line_widths=line_widths, bus_sizes=params['bus_sizes'], bus_colors=params['bus_colors'], boundaries=params['boundaries_offshore'])\n",
    "\n",
    "### Add regions_onshore\n",
    "xp.map_add_region(ax, gdf_regions_onshore, params['map_add_region'])\n",
    "\n",
    "### Add regions_offshore\n",
    "xp.map_add_region(ax, gdf_regions_offshore, params['map_add_region'], is_offshore=True)\n",
    "\n",
    "### Add map features\n",
    "xp.map_add_features(ax, params['map_add_features'])"
   ]
  },
  {
   "cell_type": "markdown",
   "metadata": {},
   "source": [
    "### Variable: `n.buses`"
   ]
  },
  {
   "cell_type": "markdown",
   "metadata": {},
   "source": [
    "Five buses related to carriers **none**, **gas**, **co2**, **co2_stored** and **co2_sequestered** have been included."
   ]
  },
  {
   "cell_type": "markdown",
   "metadata": {},
   "source": [
    "Place `n.buses` in a dataFrame and show its content."
   ]
  },
  {
   "cell_type": "code",
   "execution_count": null,
   "metadata": {},
   "outputs": [],
   "source": [
    "bb = n.buses\n",
    "\n",
    "bb.head()"
   ]
  },
  {
   "cell_type": "markdown",
   "metadata": {},
   "source": [
    "### Variable: `n.carriers`"
   ]
  },
  {
   "cell_type": "markdown",
   "metadata": {},
   "source": [
    "Several carriers may have been added (H2 Store, OCGT, co2, co2_sequestered, co2_stored, electricity, gas, none)."
   ]
  },
  {
   "cell_type": "markdown",
   "metadata": {},
   "source": [
    "Place `n.carriers` in a dataFrame and show its content."
   ]
  },
  {
   "cell_type": "code",
   "execution_count": null,
   "metadata": {},
   "outputs": [],
   "source": [
    "cc = n.carriers\n",
    "\n",
    "cc.head()"
   ]
  },
  {
   "cell_type": "markdown",
   "metadata": {},
   "source": [
    "### Variable: `n.generators`"
   ]
  },
  {
   "cell_type": "markdown",
   "metadata": {},
   "source": [
    "The number of generators has been reduced because CCGT and OCGT have been represented with links."
   ]
  },
  {
   "cell_type": "markdown",
   "metadata": {},
   "source": [
    "Place `n.generators` in a dataFrame and show its content."
   ]
  },
  {
   "cell_type": "code",
   "execution_count": null,
   "metadata": {},
   "outputs": [],
   "source": [
    "gg = n.generators\n",
    "\n",
    "gg.head()"
   ]
  },
  {
   "cell_type": "markdown",
   "metadata": {},
   "source": [
    "#### Summary"
   ]
  },
  {
   "cell_type": "markdown",
   "metadata": {},
   "source": [
    "What is the aggregated capacity per carrier? \n",
    "\n",
    "How many buses have generators for each carrier? How many of them have zero capacity?"
   ]
  },
  {
   "cell_type": "code",
   "execution_count": null,
   "metadata": {},
   "outputs": [],
   "source": [
    "gg.groupby('carrier').agg(\n",
    "    Total_capacity=pd.NamedAgg(column='p_nom', aggfunc='sum'),\n",
    "    Buses=pd.NamedAgg(column='p_nom', aggfunc='size'),\n",
    "    Buses_zero_capacity=pd.NamedAgg(column='p_nom', aggfunc=lambda x: (x == 0).sum()),\n",
    "    Buses_non_zero_capacity=pd.NamedAgg(column='p_nom', aggfunc=lambda x: (x != 0).sum()),\n",
    ")"
   ]
  },
  {
   "cell_type": "markdown",
   "metadata": {},
   "source": [
    "#### Costs"
   ]
  },
  {
   "cell_type": "markdown",
   "metadata": {},
   "source": [
    "Cost may have changed for renewable technologies.. why? grid connection costs??? (<<<CHECK)"
   ]
  },
  {
   "cell_type": "markdown",
   "metadata": {},
   "source": [
    "What is the capital cost of generators?"
   ]
  },
  {
   "cell_type": "code",
   "execution_count": null,
   "metadata": {},
   "outputs": [],
   "source": [
    "#################### Parameters\n",
    "\n",
    "### Select carriers\n",
    "carrier_list = ['onwind', 'solar', 'offwind-float']\n",
    "\n",
    "\n",
    "\n",
    "#################### Figure\n",
    "fig_size = [10,5]\n",
    "fig, ax = plt.subplots(1,1,figsize=fig_size)\n",
    "\n",
    "# Give a message with the carriers not considered\n",
    "carrier_all = gg['carrier'].unique().tolist()\n",
    "carrier_excluded = [carrier for carrier in carrier_all if carrier not in carrier_list]\n",
    "print(f'Carriers ommitted: {carrier_excluded}')\n",
    "\n",
    "# Define bins\n",
    "minimo = 0 # 0.95 * gg.loc[ gg['carrier'].isin(carrier_list), 'capital_cost'].min()\n",
    "maximo = 1.05 * gg.loc[ gg['carrier'].isin(carrier_list), 'capital_cost'].max()\n",
    "ancho = 1000\n",
    "\n",
    "bins = np.arange(minimo, maximo, 1000)\n",
    "\n",
    "# Define colors\n",
    "tech_colors = n.carriers['color']\n",
    "\n",
    "\n",
    "for carrier in carrier_list:\n",
    "\n",
    "    ##### Filter the carrier\n",
    "    df = gg[gg['carrier']==carrier]\n",
    "\n",
    "\n",
    "    ##### Only single cost for the carrier\n",
    "    if df['capital_cost'].round(2).nunique()==1:\n",
    "\n",
    "        valor = df['capital_cost'].unique()[0]\n",
    "\n",
    "        ax.axvline(x=valor, label=carrier, color = tech_colors[carrier])\n",
    "\n",
    "        print(f'Capital cost for {carrier} is: {valor:.2f} EUR/MW·year')\n",
    "\n",
    "    ##### Different costs for the carrier\n",
    "    else:\n",
    "        plt.hist(df['capital_cost'], bins=bins, \n",
    "                 edgecolor='none', color = tech_colors[carrier],\n",
    "                 label=carrier, alpha=1)\n",
    "        \n",
    "        valor = df['capital_cost'].mean()\n",
    "        print(f'Average capital cost for {carrier} is: {valor:.2f} EUR/MW·year')\n",
    "\n",
    "\n",
    "ax.set_title('capital cost')\n",
    "ax.set_xlabel('EUR/(MW·year)')\n",
    "ax.legend()\n",
    "ax.grid(True, linestyle='--', alpha=0.5)"
   ]
  },
  {
   "cell_type": "markdown",
   "metadata": {},
   "source": [
    "### Variable: `n.global_constraints`"
   ]
  },
  {
   "cell_type": "markdown",
   "metadata": {},
   "source": [
    "The constraint related to co2 emissions has been added."
   ]
  },
  {
   "cell_type": "markdown",
   "metadata": {},
   "source": [
    "Place `n.global_constraints` in a dataFrame and show its content."
   ]
  },
  {
   "cell_type": "code",
   "execution_count": null,
   "metadata": {},
   "outputs": [],
   "source": [
    "gc = n.global_constraints\n",
    "\n",
    "gc"
   ]
  },
  {
   "cell_type": "markdown",
   "metadata": {},
   "source": [
    "### Variable: `n.links`"
   ]
  },
  {
   "cell_type": "markdown",
   "metadata": {},
   "source": [
    "Changes:\n",
    "\n",
    "- Links related to CCGT and OCGT have been included.\n",
    "\n",
    "- Interconnections have been reversed.\n",
    "\n",
    "- Values in columns 'p_nom_max' have been updated.\n",
    "\n",
    "- 4 more columns have been added (<<< DESCRIBE).\n"
   ]
  },
  {
   "cell_type": "markdown",
   "metadata": {},
   "source": [
    "Place `n.links` in a dataFrame and show its content."
   ]
  },
  {
   "cell_type": "code",
   "execution_count": null,
   "metadata": {},
   "outputs": [],
   "source": [
    "lk = n.links\n",
    "\n",
    "lk.head()"
   ]
  },
  {
   "cell_type": "markdown",
   "metadata": {},
   "source": [
    "### Variable: `n.stores`"
   ]
  },
  {
   "cell_type": "markdown",
   "metadata": {},
   "source": [
    "Stores related to **co2_atmosphere**, **co2_sequestered**, **co2_stored** and **gas_stored** have been added."
   ]
  },
  {
   "cell_type": "markdown",
   "metadata": {},
   "source": [
    "Place `n.stores` in a dataFrame and show its content."
   ]
  },
  {
   "cell_type": "code",
   "execution_count": null,
   "metadata": {},
   "outputs": [],
   "source": [
    "st = n.stores\n",
    "\n",
    "st.head()"
   ]
  },
  {
   "cell_type": "markdown",
   "metadata": {},
   "source": [
    "### Analysis: Interconnections (`PyPSA-Spain` only)"
   ]
  },
  {
   "cell_type": "markdown",
   "metadata": {},
   "source": [
    "In `PyPSA-Spain`, interconnections with FR and PT are included at this stage.\n",
    "\n",
    "Each interconnection is represented through a new link with a new bus. The bus is located in the border, and includes a generator and a load. The marginal cost of the generator represents the market price in FR or PT."
   ]
  },
  {
   "cell_type": "markdown",
   "metadata": {},
   "source": [
    "What are the main characteristics of DC links (interconnections and the existing ones)?"
   ]
  },
  {
   "cell_type": "code",
   "execution_count": null,
   "metadata": {},
   "outputs": [],
   "source": [
    "lk_DC = lk.loc[lk['carrier']=='DC']\n",
    "\n",
    "print(lk_DC[['p_nom', 'length', 'capital_cost', 'p_nom_extendable']])"
   ]
  }
 ],
 "metadata": {
  "kernelspec": {
   "display_name": "pypsa-eur",
   "language": "python",
   "name": "python3"
  },
  "language_info": {
   "codemirror_mode": {
    "name": "ipython",
    "version": 3
   },
   "file_extension": ".py",
   "mimetype": "text/x-python",
   "name": "python",
   "nbconvert_exporter": "python",
   "pygments_lexer": "ipython3",
   "version": "3.12.5"
  }
 },
 "nbformat": 4,
 "nbformat_minor": 2
}
