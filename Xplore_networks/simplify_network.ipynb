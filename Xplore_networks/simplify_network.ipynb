{
 "cells": [
  {
   "cell_type": "markdown",
   "metadata": {},
   "source": [
    "# Rule: **simplify_network**"
   ]
  },
  {
   "cell_type": "markdown",
   "metadata": {},
   "source": [
    "**Outputs**\n",
    "\n",
    "- resources/networks/`elec_s{simpl}.nc`\n",
    "- resources/`regions_onshore_elec_s{simpl}.geojson`\n",
    "- resources/`regions_offshore_elec_s{simpl}.geojson`"
   ]
  },
  {
   "cell_type": "code",
   "execution_count": null,
   "metadata": {},
   "outputs": [],
   "source": [
    "##### Import packages\n",
    "import pypsa\n",
    "import pandas as pd\n",
    "import cartopy.crs as ccrs\n",
    "import geopandas as gpd\n",
    "import matplotlib.pyplot as plt\n",
    "import yaml\n",
    "import os \n",
    "import sys\n",
    "\n",
    "\n",
    "##### Import local functions\n",
    "sys.path.append(os.path.abspath(os.path.join('..')))\n",
    "import functions as xp\n",
    "\n",
    "\n",
    "##### Read params.yaml\n",
    "with open('../params.yaml', 'r') as configfile:\n",
    "    params = yaml.safe_load(configfile)\n",
    "\n",
    "\n",
    "##### Ignore warnings\n",
    "import warnings\n",
    "warnings.filterwarnings('ignore', category=UserWarning)"
   ]
  },
  {
   "cell_type": "code",
   "execution_count": null,
   "metadata": {},
   "outputs": [],
   "source": [
    "######################################## Parameters\n",
    "\n",
    "### Run\n",
    "name = '00_ref'\n",
    "prefix = ''\n",
    "\n",
    "### Network\n",
    "simpl = ''\n",
    "\n",
    "\n",
    "\n",
    "######################################## Derived parameters\n",
    "### Define region files\n",
    "file_regions_onshore = f'regions_onshore_elec_s{simpl}.geojson'\n",
    "file_regions_offshore = f'regions_offshore_elec_s{simpl}.geojson'\n",
    "path_regions = f'{params['rootpath']}/resources/{prefix}/{name}/'\n"
   ]
  },
  {
   "cell_type": "markdown",
   "metadata": {},
   "source": [
    "## `elec_s{simpl}.nc`"
   ]
  },
  {
   "cell_type": "markdown",
   "metadata": {},
   "source": [
    "Load the network and show its components."
   ]
  },
  {
   "cell_type": "code",
   "execution_count": null,
   "metadata": {},
   "outputs": [],
   "source": [
    "file = f'elec_s{simpl}.nc'\n",
    "path = f'{params['rootpath']}/resources/{prefix}/{name}/networks/'\n",
    "\n",
    "n = pypsa.Network(path+file)\n",
    "\n",
    "n"
   ]
  },
  {
   "cell_type": "markdown",
   "metadata": {},
   "source": [
    "Plot the network."
   ]
  },
  {
   "cell_type": "code",
   "execution_count": null,
   "metadata": {},
   "outputs": [],
   "source": [
    "#################### Parameters\n",
    "line_widths = 1*n.lines.s_nom / 1e3\n",
    "\n",
    "\n",
    "\n",
    "#################### Figure\n",
    "fig_size = [12,12]\n",
    "crs = ccrs.PlateCarree()\n",
    "\n",
    "fig, ax = plt.subplots(figsize=fig_size, subplot_kw={'projection': crs})\n",
    "\n",
    "\n",
    "### Add network\n",
    "n.plot(ax=ax, line_widths=line_widths, bus_sizes=params['bus_sizes'], bus_colors=params['bus_colors'], boundaries=params['boundaries_offshore'])\n",
    "\n",
    "### Add regions_onshore\n",
    "xp.map_add_region(ax, file_regions_onshore, path_regions, params['map_add_region'])\n",
    "\n",
    "### Add regions_offshore\n",
    "xp.map_add_region(ax, file_regions_offshore, path_regions, params['map_add_region'])\n",
    "\n",
    "### Add map features\n",
    "xp.map_add_features(ax, params['map_add_features'])"
   ]
  },
  {
   "cell_type": "markdown",
   "metadata": {},
   "source": [
    "### Variable: `n.buses`"
   ]
  },
  {
   "cell_type": "markdown",
   "metadata": {},
   "source": [
    "The number of buses has been reduced. Many columns have been removed. Equivalent voltages have been obtained."
   ]
  },
  {
   "cell_type": "markdown",
   "metadata": {},
   "source": [
    "Place `n.buses` in a dataFrame and show its content."
   ]
  },
  {
   "cell_type": "code",
   "execution_count": null,
   "metadata": {},
   "outputs": [],
   "source": [
    "bb = n.buses\n",
    "\n",
    "bb.head()"
   ]
  },
  {
   "cell_type": "markdown",
   "metadata": {},
   "source": [
    "### Variable: `n.generators`"
   ]
  },
  {
   "cell_type": "markdown",
   "metadata": {},
   "source": [
    "The number of generators has been reduced."
   ]
  },
  {
   "cell_type": "markdown",
   "metadata": {},
   "source": [
    "Place `n.generators` in a dataFrame and show its content."
   ]
  },
  {
   "cell_type": "code",
   "execution_count": null,
   "metadata": {},
   "outputs": [],
   "source": [
    "gg = n.generators\n",
    "\n",
    "gg.head()"
   ]
  },
  {
   "cell_type": "markdown",
   "metadata": {},
   "source": [
    "#### Summary"
   ]
  },
  {
   "cell_type": "markdown",
   "metadata": {},
   "source": [
    "What is the aggregated capacity per carrier? \n",
    "\n",
    "How many buses have generators for each carrier? How many of them have zero capacity?"
   ]
  },
  {
   "cell_type": "code",
   "execution_count": null,
   "metadata": {},
   "outputs": [],
   "source": [
    "gg.groupby('carrier').agg(\n",
    "    Total_capacity=pd.NamedAgg(column='p_nom', aggfunc='sum'),\n",
    "    Buses=pd.NamedAgg(column='p_nom', aggfunc='size'),\n",
    "    Buses_zero_capacity=pd.NamedAgg(column='p_nom', aggfunc=lambda x: (x == 0).sum()),\n",
    "    Buses_non_zero_capacity=pd.NamedAgg(column='p_nom', aggfunc=lambda x: (x != 0).sum()),\n",
    ")"
   ]
  },
  {
   "cell_type": "markdown",
   "metadata": {},
   "source": [
    "#### Maps"
   ]
  },
  {
   "cell_type": "markdown",
   "metadata": {},
   "source": [
    "Plot a map showing a particular feature of a generation carrier at each region."
   ]
  },
  {
   "cell_type": "code",
   "execution_count": null,
   "metadata": {},
   "outputs": [],
   "source": [
    "#################### Parameters\n",
    "\n",
    "### Select carrier\n",
    "carrier = 'onwind'\n",
    "\n",
    "### Select feature (uncomment one of the following):\n",
    "# feature = 'area' \n",
    "# feature = 'p_nom'\n",
    "feature = 'p_nom_density'\n",
    "# feature = 'p_nom_max'\n",
    "# feature = 'p_nom_max_density'\n",
    "# feature = 'p_nom_max_ratio'\n",
    "\n",
    "\n",
    "\n",
    "#################### Local params\n",
    "params_local = {}\n",
    "params_local['vmin'] = ''   # Leave empty for automatic value \n",
    "params_local['vmax'] = ''   # Leave empty for automatic value\n",
    "\n",
    "\n",
    "\n",
    "#################### Figure\n",
    "fig_size = [12,6]\n",
    "crs = ccrs.PlateCarree()\n",
    "\n",
    "fig, ax = plt.subplots(figsize=fig_size, subplot_kw={'projection': crs})\n",
    "\n",
    "\n",
    "### Define region file\n",
    "if 'off' in carrier:\n",
    "    file_regions = file_regions_offshore\n",
    "else:\n",
    "    file_regions = file_regions_onshore\n",
    "\n",
    "\n",
    "### Add regions\n",
    "xp.map_add_region(ax, file_regions, path_regions, params['map_add_region'])\n",
    "\n",
    "### Add map features\n",
    "xp.map_add_features(ax, params['map_add_features'])\n",
    "\n",
    "### Add network feature at regions\n",
    "xp.map_network_generators(carrier, n, feature, ax, file_regions, path_regions, params['map_network_generators'], params_local)"
   ]
  },
  {
   "cell_type": "markdown",
   "metadata": {},
   "source": [
    "### Variable: `n.lines`"
   ]
  },
  {
   "cell_type": "markdown",
   "metadata": {},
   "source": [
    "Changes:\n",
    "\n",
    "- The number of lines has been reduced.\n",
    "- Columns 'underground', 'under_construction', 'geometry', 'project_status' and 'tags' have been removed.\n",
    "- Column 'i_nom' has been included."
   ]
  },
  {
   "cell_type": "markdown",
   "metadata": {},
   "source": [
    "Place `n.lines` in a dataFrame and show its content."
   ]
  },
  {
   "cell_type": "code",
   "execution_count": null,
   "metadata": {},
   "outputs": [],
   "source": [
    "ln = n.lines\n",
    "\n",
    "ln.head()"
   ]
  },
  {
   "cell_type": "markdown",
   "metadata": {},
   "source": [
    "How is the distribution of line lengths?"
   ]
  },
  {
   "cell_type": "code",
   "execution_count": null,
   "metadata": {},
   "outputs": [],
   "source": [
    "#################### Parameters\n",
    "bins = 50\n",
    "\n",
    "\n",
    "\n",
    "#################### Figure\n",
    "fig_size = [10,4]\n",
    "fig, ax = plt.subplots(figsize=fig_size)\n",
    "\n",
    "\n",
    "ax.hist(ln['length'], bins=bins, edgecolor='black')\n",
    "\n",
    "ax.set_xlabel('km')\n",
    "ax.grid(True, linestyle='--', alpha=0.5)"
   ]
  },
  {
   "cell_type": "markdown",
   "metadata": {},
   "source": [
    "### Variable: `n.links`"
   ]
  },
  {
   "cell_type": "markdown",
   "metadata": {},
   "source": [
    "Changes:\n",
    "\n",
    "- Links type 'converter' have been removed.\n",
    "- Values in column 'capital_cost' (among other) have been erased.\n"
   ]
  },
  {
   "cell_type": "markdown",
   "metadata": {},
   "source": [
    "Place `n.links` in a dataFrame and show its content."
   ]
  },
  {
   "cell_type": "code",
   "execution_count": null,
   "metadata": {},
   "outputs": [],
   "source": [
    "lk = n.links\n",
    "\n",
    "lk.head()"
   ]
  },
  {
   "cell_type": "markdown",
   "metadata": {},
   "source": [
    "### Variable: `n.loads_t[p_set]`"
   ]
  },
  {
   "cell_type": "markdown",
   "metadata": {},
   "source": [
    "Place `n.loads_t[p_set]` in a dataFrame and show its content."
   ]
  },
  {
   "cell_type": "code",
   "execution_count": null,
   "metadata": {},
   "outputs": [],
   "source": [
    "lot_pset = n.loads_t['p_set']\n",
    "\n",
    "lot_pset.head()"
   ]
  },
  {
   "cell_type": "markdown",
   "metadata": {},
   "source": [
    "#### Time series"
   ]
  },
  {
   "cell_type": "markdown",
   "metadata": {},
   "source": [
    "How do the load time series look like?"
   ]
  },
  {
   "cell_type": "code",
   "execution_count": null,
   "metadata": {},
   "outputs": [],
   "source": [
    "#################### Parameters\n",
    "start = '2022-03-01'\n",
    "end = '2022-03-10'\n",
    "\n",
    "\n",
    "\n",
    "#################### Figure\n",
    "fig_size = [10,4]\n",
    "fig, ax = plt.subplots(figsize=fig_size)\n",
    "\n",
    "lot_pset.loc[start:end].plot(ax=ax, alpha=.4, legend=False, linewidth=.5)\n",
    "\n",
    "ax.grid(True, linestyle='--', alpha=1)\n",
    "ax.set_ylabel('MW')"
   ]
  },
  {
   "cell_type": "markdown",
   "metadata": {},
   "source": [
    "#### Maps"
   ]
  },
  {
   "cell_type": "markdown",
   "metadata": {},
   "source": [
    "Plot a map showing a particular feature of the load at each region."
   ]
  },
  {
   "cell_type": "code",
   "execution_count": null,
   "metadata": {},
   "outputs": [],
   "source": [
    "#################### Parameters\n",
    "\n",
    "### Select feature (uncomment one of the following):\n",
    "# feature = 'area' \n",
    "# feature = 'annual_load'\n",
    "feature = 'annual_load_density'\n",
    "\n",
    "\n",
    "\n",
    "#################### Local params\n",
    "params_local = {}\n",
    "params_local['vmin'] = ''   # Leave empty for automatic value \n",
    "params_local['vmax'] = ''   # Leave empty for automatic value\n",
    "\n",
    "\n",
    "\n",
    "#################### Figure\n",
    "fig_size = [12,6]\n",
    "crs = ccrs.PlateCarree()\n",
    "\n",
    "fig, ax = plt.subplots(figsize=fig_size, subplot_kw={'projection': crs})\n",
    "\n",
    "\n",
    "### Add regions\n",
    "xp.map_add_region(ax, file_regions_onshore, path_regions, params['map_add_region'])\n",
    "\n",
    "### Add map features\n",
    "xp.map_add_features(ax, params['map_add_features'])\n",
    "\n",
    "### Add network feature at regions\n",
    "xp.map_network_loads_t(n, feature, ax, file_regions_onshore, path_regions, params['map_network_loads_t'], params_local)"
   ]
  },
  {
   "cell_type": "markdown",
   "metadata": {},
   "source": [
    "### Variable: `n.storage_units`"
   ]
  },
  {
   "cell_type": "markdown",
   "metadata": {},
   "source": [
    "Place `n.generators` in a dataFrame and show its content."
   ]
  },
  {
   "cell_type": "code",
   "execution_count": null,
   "metadata": {},
   "outputs": [],
   "source": [
    "su = n.storage_units\n",
    "\n",
    "su.head()"
   ]
  },
  {
   "cell_type": "markdown",
   "metadata": {},
   "source": [
    "#### Summary"
   ]
  },
  {
   "cell_type": "markdown",
   "metadata": {},
   "source": [
    "What is the aggregated capacity per carrier? \n",
    "\n",
    "How many buses have storage units for each carrier? How many of them have zero capacity?"
   ]
  },
  {
   "cell_type": "code",
   "execution_count": null,
   "metadata": {},
   "outputs": [],
   "source": [
    "su.groupby('carrier').agg(\n",
    "    Total_capacity=pd.NamedAgg(column='p_nom', aggfunc='sum'),\n",
    "    Buses=pd.NamedAgg(column='p_nom', aggfunc='size'),\n",
    "    Buses_zero_capacity=pd.NamedAgg(column='p_nom', aggfunc=lambda x: (x == 0).sum()),\n",
    "    Buses_non_zero_capacity=pd.NamedAgg(column='p_nom', aggfunc=lambda x: (x != 0).sum()),\n",
    ")"
   ]
  },
  {
   "cell_type": "markdown",
   "metadata": {},
   "source": [
    "#### Maps"
   ]
  },
  {
   "cell_type": "markdown",
   "metadata": {},
   "source": [
    "Plot a map showing a particular feature of a storage unit carrier at each region."
   ]
  },
  {
   "cell_type": "code",
   "execution_count": null,
   "metadata": {},
   "outputs": [],
   "source": [
    "#################### Parameters\n",
    "\n",
    "### Select carrier\n",
    "carrier = 'hydro'\n",
    "\n",
    "### Select feature (uncomment one of the following):\n",
    "# feature = 'area' \n",
    "feature = 'p_nom'\n",
    "# feature = 'p_nom_density'\n",
    "# feature = 'max_hours'\n",
    "\n",
    "\n",
    "\n",
    "#################### Local params\n",
    "params_local = {}\n",
    "params_local['vmin'] = ''   # Leave empty for automatic value \n",
    "params_local['vmax'] = ''   # Leave empty for automatic value\n",
    "\n",
    "\n",
    "\n",
    "#################### Figure\n",
    "fig_size = [12,6]\n",
    "crs = ccrs.PlateCarree()\n",
    "\n",
    "fig, ax = plt.subplots(figsize=fig_size, subplot_kw={'projection': crs})\n",
    "\n",
    "\n",
    "### Add regions\n",
    "xp.map_add_region(ax, file_regions_onshore, path_regions, params['map_add_region'])\n",
    "\n",
    "### Add map features\n",
    "xp.map_add_features(ax, params['map_add_features'])\n",
    "\n",
    "### Add network feature at regions\n",
    "xp.map_network_storage_units(carrier, n, feature, ax, file_regions_onshore, path_regions, params['map_network_storage_units'], params_local)"
   ]
  },
  {
   "cell_type": "markdown",
   "metadata": {},
   "source": [
    "#### Maximum hours"
   ]
  },
  {
   "cell_type": "markdown",
   "metadata": {},
   "source": [
    "What is the relation between installed capacity and max. hours, for each carrier?"
   ]
  },
  {
   "cell_type": "code",
   "execution_count": null,
   "metadata": {},
   "outputs": [],
   "source": [
    "#################### Figure\n",
    "fig_size = [8,4]\n",
    "fig, ax = plt.subplots(figsize=fig_size)\n",
    "\n",
    "tech_colors = n.carriers['color']\n",
    "\n",
    "for carrier, group in su.groupby('carrier'):\n",
    "    ax.scatter(group['p_nom'], group['max_hours'], label=carrier, color=tech_colors[carrier], alpha=0.7)\n",
    "\n",
    "ax.set_xlabel('Installed capacity [MW]')\n",
    "ax.set_ylabel('Max. hours')\n",
    "ax.set_title('Storage units')\n",
    "ax.grid(True, linestyle='--', alpha=0.5)\n",
    "ax.legend()"
   ]
  },
  {
   "cell_type": "markdown",
   "metadata": {},
   "source": [
    "## `regions_onshore_elec_s{simpl}.geojson`"
   ]
  },
  {
   "cell_type": "markdown",
   "metadata": {},
   "source": [
    "Columns 'country', 'x' and 'y' have been removed."
   ]
  },
  {
   "cell_type": "markdown",
   "metadata": {},
   "source": [
    "Load the file and show its content."
   ]
  },
  {
   "cell_type": "code",
   "execution_count": null,
   "metadata": {},
   "outputs": [],
   "source": [
    "gdf_regions_onshore = gpd.read_file(path_regions+file_regions_onshore)\n",
    "\n",
    "gdf_regions_onshore.head()"
   ]
  },
  {
   "cell_type": "markdown",
   "metadata": {},
   "source": [
    "How many regions are there in the file?"
   ]
  },
  {
   "cell_type": "code",
   "execution_count": null,
   "metadata": {},
   "outputs": [],
   "source": [
    "len(gdf_regions_onshore)"
   ]
  },
  {
   "cell_type": "markdown",
   "metadata": {},
   "source": [
    "## `regions_offshore.geojson`"
   ]
  },
  {
   "cell_type": "markdown",
   "metadata": {},
   "source": [
    "Columns 'country', 'x' and 'y' have been removed."
   ]
  },
  {
   "cell_type": "markdown",
   "metadata": {},
   "source": [
    "Load the file and show its content."
   ]
  },
  {
   "cell_type": "code",
   "execution_count": null,
   "metadata": {},
   "outputs": [],
   "source": [
    "gdf_regions_offshore = gpd.read_file(path_regions+file_regions_offshore)\n",
    "\n",
    "gdf_regions_offshore.head()"
   ]
  },
  {
   "cell_type": "markdown",
   "metadata": {},
   "source": [
    "How many regions are there in the file?"
   ]
  },
  {
   "cell_type": "code",
   "execution_count": null,
   "metadata": {},
   "outputs": [],
   "source": [
    "len(gdf_regions_offshore)"
   ]
  }
 ],
 "metadata": {
  "kernelspec": {
   "display_name": "pypsa-eur",
   "language": "python",
   "name": "python3"
  },
  "language_info": {
   "codemirror_mode": {
    "name": "ipython",
    "version": 3
   },
   "file_extension": ".py",
   "mimetype": "text/x-python",
   "name": "python",
   "nbconvert_exporter": "python",
   "pygments_lexer": "ipython3",
   "version": "3.12.5"
  }
 },
 "nbformat": 4,
 "nbformat_minor": 2
}
