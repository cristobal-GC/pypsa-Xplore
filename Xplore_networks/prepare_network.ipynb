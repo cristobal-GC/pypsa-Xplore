{
 "cells": [
  {
   "cell_type": "markdown",
   "metadata": {},
   "source": [
    "# Rule: **prepare_network**"
   ]
  },
  {
   "cell_type": "markdown",
   "metadata": {},
   "source": [
    "**Outputs**\n",
    "\n",
    "- resources/networks/`elec_s{simpl}_{clusters}_ec_l{ll}_{opts}.nc`\n"
   ]
  },
  {
   "cell_type": "code",
   "execution_count": null,
   "metadata": {},
   "outputs": [],
   "source": [
    "######################################## Parameters\n",
    "\n",
    "### Run\n",
    "name = 'co2_05'\n",
    "prefix = 'add'\n",
    "\n",
    "### Network\n",
    "simpl = ''\n",
    "clusters = 100\n",
    "ll = 'v1.0'\n",
    "opts = ''"
   ]
  },
  {
   "cell_type": "code",
   "execution_count": null,
   "metadata": {},
   "outputs": [],
   "source": [
    "##### Import packages\n",
    "import pypsa\n",
    "import pandas as pd\n",
    "import cartopy.crs as ccrs\n",
    "import geopandas as gpd\n",
    "import matplotlib.pyplot as plt\n",
    "import yaml\n",
    "import os \n",
    "import sys\n",
    "import numpy as np\n",
    "\n",
    "\n",
    "##### Import local functions\n",
    "sys.path.append(os.path.abspath(os.path.join('..')))\n",
    "import functions as xp\n",
    "\n",
    "\n",
    "##### Read params.yaml\n",
    "with open('../params.yaml', 'r') as configfile:\n",
    "    params = yaml.safe_load(configfile)\n",
    "\n",
    "\n",
    "##### Ignore warnings\n",
    "import warnings\n",
    "warnings.filterwarnings('ignore', category=UserWarning)\n",
    "\n",
    "\n",
    "##### Region files\n",
    "file_regions_onshore = f'regions_onshore_elec_s{simpl}_{clusters}.geojson'\n",
    "file_regions_offshore = f'regions_offshore_elec_s{simpl}_{clusters}.geojson'\n",
    "path_regions = f'{params['rootpath']}/resources/{prefix}/{name}/'\n",
    "gdf_regions_onshore = gpd.read_file(path_regions+file_regions_onshore)\n",
    "gdf_regions_offshore = gpd.read_file(path_regions+file_regions_offshore)\n",
    "\n",
    "\n",
    "##### NUTS files (must contain at least columns 'NUTS_ID' and 'geometry')\n",
    "file_NUTS2 = 'NUTS2_ES.geojson'\n",
    "file_NUTS3 = 'NUTS3_ES.geojson'\n",
    "path_NUTS = f'{params['rootpath']}/data_ES/nuts/'\n",
    "gdf_NUTS2 = gpd.read_file(path_NUTS+file_NUTS2)\n",
    "gdf_NUTS3 = gpd.read_file(path_NUTS+file_NUTS3)\n"
   ]
  },
  {
   "cell_type": "markdown",
   "metadata": {},
   "source": [
    "## `elec_s{simpl}_{clusters}_ec_l{ll}_{opts}.nc`"
   ]
  },
  {
   "cell_type": "markdown",
   "metadata": {},
   "source": [
    "Load the network and show its components."
   ]
  },
  {
   "cell_type": "code",
   "execution_count": null,
   "metadata": {},
   "outputs": [],
   "source": [
    "file = f'elec_s{simpl}_{clusters}_ec_l{ll}_{opts}.nc'\n",
    "path = f'{params['rootpath']}/resources/{prefix}/{name}/networks/'\n",
    "\n",
    "n = pypsa.Network(path+file)\n",
    "\n",
    "n"
   ]
  },
  {
   "cell_type": "markdown",
   "metadata": {},
   "source": [
    "Plot the network."
   ]
  },
  {
   "cell_type": "code",
   "execution_count": null,
   "metadata": {},
   "outputs": [],
   "source": [
    "#################### Parameters\n",
    "line_widths = 1*n.lines.s_nom / 1e3\n",
    "link_widths = 1*n.links.p_nom / 1e3\n",
    "\n",
    "\n",
    "\n",
    "#################### Figure\n",
    "fig_size = [12,12]\n",
    "crs = ccrs.PlateCarree()\n",
    "\n",
    "fig, ax = plt.subplots(figsize=fig_size, subplot_kw={'projection': crs})\n",
    "\n",
    "\n",
    "### Add network\n",
    "n.plot(ax=ax, line_widths=line_widths, link_widths=link_widths, bus_sizes=params['bus_sizes'], bus_colors=params['bus_colors'], boundaries=params['boundaries_offshore'])\n",
    "\n",
    "### Add regions_onshore\n",
    "xp.map_add_region(ax, gdf_regions_onshore, params['map_add_region'])\n",
    "\n",
    "### Add regions_offshore\n",
    "xp.map_add_region(ax, gdf_regions_offshore, params['map_add_region'], is_offshore=True)\n",
    "\n",
    "### Add map features\n",
    "xp.map_add_features(ax, params['map_add_features'])"
   ]
  },
  {
   "cell_type": "markdown",
   "metadata": {},
   "source": [
    "### Variable: `n.global_constraints`"
   ]
  },
  {
   "cell_type": "markdown",
   "metadata": {},
   "source": [
    "Place `n.global_constraints` in a dataFrame and show its content."
   ]
  },
  {
   "cell_type": "code",
   "execution_count": null,
   "metadata": {},
   "outputs": [],
   "source": [
    "gc = n.global_constraints\n",
    "\n",
    "gc"
   ]
  },
  {
   "cell_type": "markdown",
   "metadata": {},
   "source": [
    "### Variable: `n.lines`"
   ]
  },
  {
   "cell_type": "markdown",
   "metadata": {},
   "source": [
    "Changes observed:\n",
    "- Colum `capital_cost` has been modified (<<< CHECK POTENTIAL BUG, see function **set_transmission_limit** ,there is an update of line costs, that does not include config.yaml:lines:length_factor (1.25).)\n",
    "- Column `s_nom_max`has been filled."
   ]
  },
  {
   "cell_type": "markdown",
   "metadata": {},
   "source": [
    "Place `n.lines` in a dataFrame and show its content."
   ]
  },
  {
   "cell_type": "code",
   "execution_count": null,
   "metadata": {},
   "outputs": [],
   "source": [
    "ln = n.lines\n",
    "\n",
    "ln.head()"
   ]
  },
  {
   "cell_type": "markdown",
   "metadata": {},
   "source": [
    "How is the relationship between line capital costs and line length?"
   ]
  },
  {
   "cell_type": "code",
   "execution_count": null,
   "metadata": {},
   "outputs": [],
   "source": [
    "#################### Figure\n",
    "fig_size = [10,4]\n",
    "fig, ax = plt.subplots(figsize=fig_size)\n",
    "\n",
    "\n",
    "ln.plot(ax=ax, kind='scatter', x='length', y='capital_cost')\n",
    "\n",
    "ax.set_xlabel('km')\n",
    "ax.set_ylabel('EUR')\n",
    "ax.grid(True, linestyle='--', alpha=0.5)"
   ]
  },
  {
   "cell_type": "markdown",
   "metadata": {},
   "source": [
    "How is the relationship between s_nom and s_nom_max?"
   ]
  },
  {
   "cell_type": "code",
   "execution_count": null,
   "metadata": {},
   "outputs": [],
   "source": [
    "#################### Figure\n",
    "fig_size = [10,4]\n",
    "fig, ax = plt.subplots(figsize=fig_size)\n",
    "\n",
    "\n",
    "ln.plot(ax=ax, kind='scatter', x='s_nom', y='s_nom_max', color='orange')\n",
    "\n",
    "ax.set_xlabel('km')\n",
    "ax.set_ylabel('EUR')\n",
    "ax.grid(True, linestyle='--', alpha=0.5)"
   ]
  },
  {
   "cell_type": "markdown",
   "metadata": {},
   "source": [
    "### Variable: `n.links`"
   ]
  },
  {
   "cell_type": "markdown",
   "metadata": {},
   "source": [
    "Changes observed:\n",
    "- Colum `capital_cost` has been modified (<<< CHECK POTENTIAL BUG)\n",
    "- Column `s_nom_max`has been filled."
   ]
  },
  {
   "cell_type": "markdown",
   "metadata": {},
   "source": [
    "Place `n.links` in a dataFrame and show its content."
   ]
  },
  {
   "cell_type": "code",
   "execution_count": null,
   "metadata": {},
   "outputs": [],
   "source": [
    "lk = n.links\n",
    "\n",
    "lk.head()"
   ]
  }
 ],
 "metadata": {
  "kernelspec": {
   "display_name": "pypsa-eur",
   "language": "python",
   "name": "python3"
  },
  "language_info": {
   "codemirror_mode": {
    "name": "ipython",
    "version": 3
   },
   "file_extension": ".py",
   "mimetype": "text/x-python",
   "name": "python",
   "nbconvert_exporter": "python",
   "pygments_lexer": "ipython3",
   "version": "3.12.5"
  }
 },
 "nbformat": 4,
 "nbformat_minor": 2
}
