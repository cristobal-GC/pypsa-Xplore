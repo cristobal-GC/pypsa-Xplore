{
 "cells": [
  {
   "cell_type": "markdown",
   "metadata": {},
   "source": [
    "# Rule: **add_extra_components**"
   ]
  },
  {
   "cell_type": "markdown",
   "metadata": {},
   "source": [
    "**Outputs**\n",
    "\n",
    "- resources/networks/`elec_s{simpl}_{clusters}_ec.nc`"
   ]
  },
  {
   "cell_type": "code",
   "execution_count": null,
   "metadata": {},
   "outputs": [],
   "source": [
    "######################################## Parameters\n",
    "\n",
    "### Run\n",
    "name = '04_updated_ALL'\n",
    "prefix = '1H'\n",
    "\n",
    "### Network\n",
    "simpl = ''\n",
    "clusters = 35"
   ]
  },
  {
   "cell_type": "code",
   "execution_count": null,
   "metadata": {},
   "outputs": [],
   "source": [
    "##### Import packages\n",
    "import pypsa\n",
    "import pandas as pd\n",
    "import cartopy.crs as ccrs\n",
    "import geopandas as gpd\n",
    "import matplotlib.pyplot as plt\n",
    "import yaml\n",
    "import os \n",
    "import sys\n",
    "import numpy as np\n",
    "import seaborn as sns\n",
    "\n",
    "\n",
    "##### Import local functions\n",
    "sys.path.append(os.path.abspath(os.path.join('..')))\n",
    "import functions as xp\n",
    "\n",
    "\n",
    "##### Read params.yaml\n",
    "with open('../params.yaml', 'r') as configfile:\n",
    "    params = yaml.safe_load(configfile)\n",
    "\n",
    "\n",
    "##### Ignore warnings\n",
    "import warnings\n",
    "warnings.filterwarnings('ignore', category=UserWarning)\n",
    "\n",
    "\n",
    "##### Region files\n",
    "file_regions_onshore = f'regions_onshore_elec_s{simpl}_{clusters}.geojson'\n",
    "file_regions_offshore = f'regions_offshore_elec_s{simpl}_{clusters}.geojson'\n",
    "path_regions = f'{params['rootpath']}/resources/{prefix}/{name}/'\n",
    "gdf_regions_onshore = gpd.read_file(path_regions+file_regions_onshore)\n",
    "gdf_regions_offshore = gpd.read_file(path_regions+file_regions_offshore)\n",
    "\n",
    "\n",
    "##### NUTS files (must contain at least columns 'NUTS_ID' and 'geometry')\n",
    "file_NUTS2 = 'NUTS2_ES.geojson'\n",
    "file_NUTS3 = 'NUTS3_ES.geojson'\n",
    "path_NUTS = f'{params['rootpath']}/data_ES/nuts/'\n",
    "gdf_NUTS2 = gpd.read_file(path_NUTS+file_NUTS2)\n",
    "gdf_NUTS3 = gpd.read_file(path_NUTS+file_NUTS3)\n"
   ]
  },
  {
   "cell_type": "markdown",
   "metadata": {},
   "source": [
    "## `elec_s{simpl}_{clusters}_ec.nc`"
   ]
  },
  {
   "cell_type": "markdown",
   "metadata": {},
   "source": [
    "Load the network and show its components."
   ]
  },
  {
   "cell_type": "code",
   "execution_count": null,
   "metadata": {},
   "outputs": [],
   "source": [
    "file = f'elec_s{simpl}_{clusters}_ec.nc'\n",
    "path = f'{params['rootpath']}/resources/{prefix}/{name}/networks/'\n",
    "\n",
    "n = pypsa.Network(path+file)\n",
    "\n",
    "n"
   ]
  },
  {
   "cell_type": "markdown",
   "metadata": {},
   "source": [
    "Plot the network."
   ]
  },
  {
   "cell_type": "code",
   "execution_count": null,
   "metadata": {},
   "outputs": [],
   "source": [
    "#################### Parameters\n",
    "line_widths = 1*n.lines.s_nom / 1e3\n",
    "link_widths = 1*n.links.p_nom / 1e3\n",
    "\n",
    "\n",
    "\n",
    "#################### Figure\n",
    "fig_size = [12,12]\n",
    "crs = ccrs.PlateCarree()\n",
    "\n",
    "fig, ax = plt.subplots(figsize=fig_size, subplot_kw={'projection': crs})\n",
    "\n",
    "\n",
    "### Add network\n",
    "n.plot(ax=ax, line_widths=line_widths, link_widths=link_widths, bus_sizes=params['bus_sizes'], bus_colors=params['bus_colors'], boundaries=params['boundaries_offshore'])\n",
    "\n",
    "### Add regions_onshore\n",
    "xp.map_add_region(ax, gdf_regions_onshore, params['map_add_region'])\n",
    "\n",
    "### Add regions_offshore\n",
    "xp.map_add_region(ax, gdf_regions_offshore, params['map_add_region'], is_offshore=True)\n",
    "\n",
    "### Add map features\n",
    "xp.map_add_features(ax, params['map_add_features'])"
   ]
  },
  {
   "cell_type": "markdown",
   "metadata": {},
   "source": [
    "### Variable: `n.buses`"
   ]
  },
  {
   "cell_type": "markdown",
   "metadata": {},
   "source": [
    "Buses related to batteries and H2 have been added."
   ]
  },
  {
   "cell_type": "markdown",
   "metadata": {},
   "source": [
    "Place `n.buses` in a dataFrame and show its content."
   ]
  },
  {
   "cell_type": "code",
   "execution_count": null,
   "metadata": {},
   "outputs": [],
   "source": [
    "bb = n.buses\n",
    "\n",
    "bb.head()"
   ]
  },
  {
   "cell_type": "markdown",
   "metadata": {},
   "source": [
    "How many buses are there for each carrier?"
   ]
  },
  {
   "cell_type": "code",
   "execution_count": null,
   "metadata": {},
   "outputs": [],
   "source": [
    "bb['carrier'].value_counts()"
   ]
  },
  {
   "cell_type": "markdown",
   "metadata": {},
   "source": [
    "### Variable: `n.carriers`"
   ]
  },
  {
   "cell_type": "markdown",
   "metadata": {},
   "source": [
    "Carriers related to batteries and H2 have been added."
   ]
  },
  {
   "cell_type": "markdown",
   "metadata": {},
   "source": [
    "Place `n.carriers` in a dataFrame and show its content."
   ]
  },
  {
   "cell_type": "code",
   "execution_count": null,
   "metadata": {},
   "outputs": [],
   "source": [
    "cc = n.carriers\n",
    "\n",
    "cc.head()"
   ]
  },
  {
   "cell_type": "markdown",
   "metadata": {},
   "source": [
    "### Variable: `n.links`"
   ]
  },
  {
   "cell_type": "markdown",
   "metadata": {},
   "source": [
    "Links may have been added due to:\n",
    "\n",
    "- batteries and H2.\n",
    "\n",
    "- interconnections with FR and PT (only for `PyPSA-Spain`)\n"
   ]
  },
  {
   "cell_type": "markdown",
   "metadata": {},
   "source": [
    "Place `n.links` in a dataFrame and show its content."
   ]
  },
  {
   "cell_type": "code",
   "execution_count": null,
   "metadata": {},
   "outputs": [],
   "source": [
    "lk = n.links\n",
    "\n",
    "lk.head()"
   ]
  },
  {
   "cell_type": "markdown",
   "metadata": {},
   "source": [
    "How many links are there for each carrier?"
   ]
  },
  {
   "cell_type": "code",
   "execution_count": null,
   "metadata": {},
   "outputs": [],
   "source": [
    "lk['carrier'].value_counts()"
   ]
  },
  {
   "cell_type": "markdown",
   "metadata": {},
   "source": [
    "### Variable: `n.stores`"
   ]
  },
  {
   "cell_type": "markdown",
   "metadata": {},
   "source": [
    "Stores related to batteries and H2 have been included."
   ]
  },
  {
   "cell_type": "markdown",
   "metadata": {},
   "source": [
    "Place `n.stores` in a dataFrame and show its content."
   ]
  },
  {
   "cell_type": "code",
   "execution_count": null,
   "metadata": {},
   "outputs": [],
   "source": [
    "st = n.stores\n",
    "\n",
    "st.head()"
   ]
  },
  {
   "cell_type": "markdown",
   "metadata": {},
   "source": [
    "How many buses are there for each carrier?"
   ]
  },
  {
   "cell_type": "code",
   "execution_count": null,
   "metadata": {},
   "outputs": [],
   "source": [
    "st['carrier'].value_counts()"
   ]
  },
  {
   "cell_type": "markdown",
   "metadata": {},
   "source": [
    "### Analysis: Interconnections (`PyPSA-Spain` only)"
   ]
  },
  {
   "cell_type": "markdown",
   "metadata": {},
   "source": [
    "In `PyPSA-Spain`, interconnections with FR and PT are included at this stage.\n",
    "\n",
    "Each interconnection is represented through a new link with a new bus. The bus is located in the border, and includes a generator and a load. The marginal cost of the generator represents the market price in FR or PT."
   ]
  },
  {
   "cell_type": "markdown",
   "metadata": {},
   "source": [
    "What are the main characteristics of DC links (interconnections and the existing ones)?"
   ]
  },
  {
   "cell_type": "code",
   "execution_count": null,
   "metadata": {},
   "outputs": [],
   "source": [
    "lk_DC = lk.loc[lk['carrier']=='DC']\n",
    "\n",
    "print(lk_DC[['p_nom', 'length', 'capital_cost', 'p_nom_extendable']])"
   ]
  },
  {
   "cell_type": "markdown",
   "metadata": {},
   "source": [
    "What are the assumed market prices for FR and PT?"
   ]
  },
  {
   "cell_type": "code",
   "execution_count": null,
   "metadata": {},
   "outputs": [],
   "source": [
    "### Select the prices at FR and PT\n",
    "df_FR = n.generators_t['marginal_cost'].filter(like='FR').iloc[:,0].to_frame(name='EUR/MWh')\n",
    "df_PT = n.generators_t['marginal_cost'].filter(like='PT').iloc[:,0].to_frame(name='EUR/MWh')\n",
    "\n",
    "### Add 'day' and 'hour' columns\n",
    "df_FR['day'] = df_PT['day'] = df_FR.index.dayofyear\n",
    "df_FR['hour'] = df_PT['hour'] = df_FR.index.hour+1 \n",
    "\n",
    "\n",
    "\n",
    "#################### Figure\n",
    "fig_size = [8,6]\n",
    "fig, (ax1, ax2) = plt.subplots(1, 2, figsize=fig_size, gridspec_kw={'width_ratios': [1, 1.25]})  # ax1 is twice as wide as ax2\n",
    "\n",
    "### Get mínimun and máximum values from 0.01 and 0.99 quantiles\n",
    "vmin = min(0, df_FR['EUR/MWh'].quantile(0.01).round(), df_PT['EUR/MWh'].quantile(0.01).round())\n",
    "vmax = max(df_FR['EUR/MWh'].quantile(0.99).round(), df_PT['EUR/MWh'].quantile(0.99).round())\n",
    "\n",
    "### Make plots\n",
    "fig1 = ax1.imshow(df_FR['EUR/MWh'].values.reshape(365, 24), aspect='auto', cmap='viridis', vmin=vmin, vmax=vmax)\n",
    "fig2 = ax2.imshow(df_PT['EUR/MWh'].values.reshape(365, 24), aspect='auto', cmap='viridis', vmin=vmin, vmax=vmax)\n",
    "\n",
    "ax1.set_xlabel('Hour of the Day')\n",
    "ax1.set_ylabel('Day of the Year')\n",
    "ax1.set_title('Hourly Prices - FR')\n",
    "\n",
    "ax2.set_xlabel('Hour of the Day')\n",
    "ax2.set_ylabel('')\n",
    "ax2.set_title('Hourly Prices - PT')\n",
    "\n",
    "plt.yticks([])  \n",
    "\n",
    "### Add colorbar\n",
    "fig.colorbar(fig2, label='Price (EUR/MWhe)')\n",
    "\n",
    "\n",
    "\n",
    "#################### Make summary\n",
    "print('FR')\n",
    "print(df_FR['EUR/MWh'].describe())\n",
    "print(df_FR['EUR/MWh'].quantile(0.99))\n",
    "\n",
    "print('PT')\n",
    "print(df_PT['EUR/MWh'].describe())\n",
    "print(df_PT['EUR/MWh'].quantile(0.99))\n"
   ]
  }
 ],
 "metadata": {
  "kernelspec": {
   "display_name": "pypsa-eur",
   "language": "python",
   "name": "python3"
  },
  "language_info": {
   "codemirror_mode": {
    "name": "ipython",
    "version": 3
   },
   "file_extension": ".py",
   "mimetype": "text/x-python",
   "name": "python",
   "nbconvert_exporter": "python",
   "pygments_lexer": "ipython3",
   "version": "3.12.5"
  }
 },
 "nbformat": 4,
 "nbformat_minor": 2
}
