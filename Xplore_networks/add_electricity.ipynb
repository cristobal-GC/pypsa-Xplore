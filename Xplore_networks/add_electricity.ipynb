{
 "cells": [
  {
   "cell_type": "markdown",
   "metadata": {},
   "source": [
    "# Rule: **add_electricity**"
   ]
  },
  {
   "cell_type": "markdown",
   "metadata": {},
   "source": [
    "**Outputs**\n",
    "\n",
    "- resources/networks/`elec.nc`"
   ]
  },
  {
   "cell_type": "code",
   "execution_count": null,
   "metadata": {},
   "outputs": [],
   "source": [
    "##### Import packages\n",
    "import pypsa\n",
    "import pandas as pd\n",
    "import cartopy.crs as ccrs\n",
    "import geopandas as gpd\n",
    "import matplotlib.pyplot as plt\n",
    "import yaml\n",
    "import os \n",
    "import sys\n",
    "\n",
    "\n",
    "##### Import local functions\n",
    "sys.path.append(os.path.abspath(os.path.join('..')))\n",
    "import functions as xp\n",
    "\n",
    "\n",
    "##### Read params.yaml\n",
    "with open('../params.yaml', 'r') as configfile:\n",
    "    params = yaml.safe_load(configfile)\n",
    "\n",
    "\n",
    "##### Ignore warnings\n",
    "import warnings\n",
    "warnings.filterwarnings('ignore', category=UserWarning)"
   ]
  },
  {
   "cell_type": "code",
   "execution_count": null,
   "metadata": {},
   "outputs": [],
   "source": [
    "######################################## Run parameters\n",
    "name = '00_ref'\n",
    "prefix = ''"
   ]
  },
  {
   "cell_type": "markdown",
   "metadata": {},
   "source": [
    "## `elec.nc`"
   ]
  },
  {
   "cell_type": "markdown",
   "metadata": {},
   "source": [
    "Load the network and show its components."
   ]
  },
  {
   "cell_type": "code",
   "execution_count": null,
   "metadata": {},
   "outputs": [],
   "source": [
    "file = f'elec.nc'\n",
    "path = f'{params['rootpath']}/resources/{prefix}/{name}/networks/'\n",
    "\n",
    "n = pypsa.Network(path+file)\n",
    "\n",
    "n"
   ]
  },
  {
   "cell_type": "markdown",
   "metadata": {},
   "source": [
    "Plot the network."
   ]
  },
  {
   "cell_type": "code",
   "execution_count": null,
   "metadata": {},
   "outputs": [],
   "source": [
    "#################### Parameters\n",
    "line_widths = 1*n.lines.s_nom / 1e3\n",
    "\n",
    "\n",
    "\n",
    "#################### Figure\n",
    "fig_size = [12,12]\n",
    "crs = ccrs.PlateCarree()\n",
    "\n",
    "fig, ax = plt.subplots(figsize=fig_size, subplot_kw={'projection': crs})\n",
    "\n",
    "\n",
    "### Add network\n",
    "n.plot(ax=ax, line_widths=line_widths, bus_sizes=params['bus_sizes'], bus_colors=params['bus_colors'], boundaries=params['boundaries_offshore'])\n",
    "\n",
    "### Add regions_onshore\n",
    "file = f'regions_onshore.geojson'\n",
    "path = f'{params['rootpath']}/resources/{prefix}/{name}/'\n",
    "xp.map_add_region(ax, file, path, params['map_add_region'])\n",
    "\n",
    "### Add regions_offshore\n",
    "file = f'regions_offshore.geojson'\n",
    "path = f'{params['rootpath']}/resources/{prefix}/{name}/'\n",
    "xp.map_add_region(ax, file, path, params['map_add_region'])\n",
    "\n",
    "### Add map features\n",
    "xp.map_add_features(ax, params['map_add_features'])"
   ]
  },
  {
   "cell_type": "markdown",
   "metadata": {},
   "source": [
    "### Variable: `n.carriers`"
   ]
  },
  {
   "cell_type": "markdown",
   "metadata": {},
   "source": [
    "Place `n.carriers` in a dataFrame and show its content."
   ]
  },
  {
   "cell_type": "code",
   "execution_count": null,
   "metadata": {},
   "outputs": [],
   "source": [
    "cc = n.carriers\n",
    "\n",
    "cc.head()"
   ]
  },
  {
   "cell_type": "markdown",
   "metadata": {},
   "source": [
    "### Variable: `n.generators`"
   ]
  },
  {
   "cell_type": "markdown",
   "metadata": {},
   "source": [
    "Place `n.generators` in a dataFrame and show its content."
   ]
  },
  {
   "cell_type": "code",
   "execution_count": null,
   "metadata": {},
   "outputs": [],
   "source": [
    "gg = n.generators\n",
    "\n",
    "gg.head()"
   ]
  },
  {
   "cell_type": "markdown",
   "metadata": {},
   "source": [
    "#### Summary"
   ]
  },
  {
   "cell_type": "markdown",
   "metadata": {},
   "source": [
    "What is the aggregated capacity per carrier? \n",
    "\n",
    "How many buses have generators for each carrier? How many of them have zero capacity?"
   ]
  },
  {
   "cell_type": "code",
   "execution_count": null,
   "metadata": {},
   "outputs": [],
   "source": [
    "gg.groupby('carrier').agg(\n",
    "    Total_capacity=pd.NamedAgg(column='p_nom', aggfunc='sum'),\n",
    "    Buses=pd.NamedAgg(column='p_nom', aggfunc='size'),\n",
    "    Buses_zero_capacity=pd.NamedAgg(column='p_nom', aggfunc=lambda x: (x == 0).sum()),\n",
    "    Buses_non_zero_capacity=pd.NamedAgg(column='p_nom', aggfunc=lambda x: (x != 0).sum()),\n",
    ")"
   ]
  },
  {
   "cell_type": "markdown",
   "metadata": {},
   "source": [
    "#### Maps"
   ]
  },
  {
   "cell_type": "markdown",
   "metadata": {},
   "source": [
    "Plot a map showing a particular feature of a generation carrier at each region."
   ]
  },
  {
   "cell_type": "code",
   "execution_count": null,
   "metadata": {},
   "outputs": [],
   "source": [
    "#################### Parameters\n",
    "\n",
    "### Select carrier\n",
    "carrier = 'solar'\n",
    "\n",
    "### Select feature (uncomment one of the following):\n",
    "# feature = 'area' \n",
    "# feature = 'p_nom'\n",
    "feature = 'p_nom_density'\n",
    "# feature = 'p_nom_max'\n",
    "# feature = 'p_nom_max_density'\n",
    "# feature = 'p_nom_max_ratio'\n",
    "\n",
    "\n",
    "\n",
    "#################### Local params\n",
    "params_local = {}\n",
    "params_local['vmin'] = ''   # Leave empty for automatic value \n",
    "params_local['vmax'] = ''   # Leave empty for automatic value\n",
    "\n",
    "\n",
    "\n",
    "#################### Derived parameters\n",
    "### Define region file\n",
    "if 'off' in carrier:\n",
    "    file_regions = f'regions_offshore.geojson'\n",
    "else:\n",
    "    file_regions = f'regions_onshore.geojson'\n",
    "path_regions = f'{params['rootpath']}/resources/{prefix}/{name}/'\n",
    "\n",
    "\n",
    "\n",
    "#################### Figure\n",
    "fig_size = [12,6]\n",
    "crs = ccrs.PlateCarree()\n",
    "\n",
    "fig, ax = plt.subplots(figsize=fig_size, subplot_kw={'projection': crs})\n",
    "\n",
    "\n",
    "### Add regions\n",
    "xp.map_add_region(ax, file_regions, path_regions, params['map_add_region'])\n",
    "\n",
    "### Add map features\n",
    "xp.map_add_features(ax, params['map_add_features'])\n",
    "\n",
    "### Add network feature at regions\n",
    "xp.map_network_generators(carrier, n, feature, file_regions, path_regions, ax, params['map_network_generators'], params_local)"
   ]
  },
  {
   "cell_type": "markdown",
   "metadata": {},
   "source": [
    "### Variable: `n.lines`"
   ]
  },
  {
   "cell_type": "markdown",
   "metadata": {},
   "source": [
    "Changes:\n",
    "\n",
    "- New lines defined in TYNDP may have been incorporated.\n",
    "- Columns 'project_status' and 'tags' have been included\n",
    "- Column 'capital_cost' has been filled\n"
   ]
  },
  {
   "cell_type": "markdown",
   "metadata": {},
   "source": [
    "Place `n.lines` in a dataFrame and show its content."
   ]
  },
  {
   "cell_type": "code",
   "execution_count": null,
   "metadata": {},
   "outputs": [],
   "source": [
    "ln = n.lines\n",
    "\n",
    "ln.head()"
   ]
  },
  {
   "cell_type": "markdown",
   "metadata": {},
   "source": [
    "How is the relationship between line capital costs and line length?"
   ]
  },
  {
   "cell_type": "code",
   "execution_count": null,
   "metadata": {},
   "outputs": [],
   "source": [
    "#################### Figure\n",
    "fig_size = [10,4]\n",
    "fig, ax = plt.subplots(figsize=fig_size)\n",
    "\n",
    "\n",
    "ln.plot(ax=ax, kind='scatter', x='length', y='capital_cost')\n",
    "\n",
    "ax.set_xlabel('km')\n",
    "ax.set_ylabel('EUR')\n",
    "ax.grid(True, linestyle='--', alpha=0.5)"
   ]
  },
  {
   "cell_type": "markdown",
   "metadata": {},
   "source": [
    "### Variable: `n.links`"
   ]
  },
  {
   "cell_type": "markdown",
   "metadata": {},
   "source": [
    "Place `n.links` in a dataFrame and show its content."
   ]
  },
  {
   "cell_type": "code",
   "execution_count": null,
   "metadata": {},
   "outputs": [],
   "source": [
    "lk = n.links\n",
    "\n",
    "lk.head()"
   ]
  },
  {
   "cell_type": "markdown",
   "metadata": {},
   "source": [
    "### Variable: `n.shapes`"
   ]
  },
  {
   "cell_type": "markdown",
   "metadata": {},
   "source": [
    "Place `n.shapes` in a geodataFrame and show its content."
   ]
  },
  {
   "cell_type": "code",
   "execution_count": null,
   "metadata": {},
   "outputs": [],
   "source": [
    "sh = n.shapes\n",
    "n\n",
    "sh.head()"
   ]
  },
  {
   "cell_type": "markdown",
   "metadata": {},
   "source": [
    "### Variable: `n.transformers`"
   ]
  },
  {
   "cell_type": "markdown",
   "metadata": {},
   "source": [
    "Place `n.transformers` in a dataFrame and show its content."
   ]
  },
  {
   "cell_type": "code",
   "execution_count": null,
   "metadata": {},
   "outputs": [],
   "source": [
    "tt= n.transformers\n",
    "\n",
    "tt.head()"
   ]
  },
  {
   "cell_type": "markdown",
   "metadata": {},
   "source": [
    "How many transformers are there in the network?"
   ]
  },
  {
   "cell_type": "code",
   "execution_count": null,
   "metadata": {},
   "outputs": [],
   "source": [
    "len(tt)"
   ]
  },
  {
   "cell_type": "markdown",
   "metadata": {},
   "source": [
    "## `regions_onshore.geojson`"
   ]
  },
  {
   "cell_type": "markdown",
   "metadata": {},
   "source": [
    "Load the file and show its content."
   ]
  },
  {
   "cell_type": "code",
   "execution_count": null,
   "metadata": {},
   "outputs": [],
   "source": [
    "file = f'regions_onshore.geojson'\n",
    "path = f'{params['rootpath']}/resources/{prefix}/{name}/'\n",
    "\n",
    "gdf_regions_onshore = gpd.read_file(path+file)\n",
    "\n",
    "gdf_regions_onshore.head()"
   ]
  },
  {
   "cell_type": "markdown",
   "metadata": {},
   "source": [
    "How many regions are there in the file?"
   ]
  },
  {
   "cell_type": "code",
   "execution_count": null,
   "metadata": {},
   "outputs": [],
   "source": [
    "len(gdf_regions_onshore)"
   ]
  },
  {
   "cell_type": "markdown",
   "metadata": {},
   "source": [
    "## `regions_offshore.geojson`"
   ]
  },
  {
   "cell_type": "markdown",
   "metadata": {},
   "source": [
    "Load the file and show its content."
   ]
  },
  {
   "cell_type": "code",
   "execution_count": null,
   "metadata": {},
   "outputs": [],
   "source": [
    "file = f'regions_offshore.geojson'\n",
    "path = f'{params['rootpath']}/resources/{prefix}/{name}/'\n",
    "\n",
    "gdf_regions_offshore = gpd.read_file(path+file)\n",
    "\n",
    "gdf_regions_offshore.head()"
   ]
  },
  {
   "cell_type": "markdown",
   "metadata": {},
   "source": [
    "How many regions are there in the file?"
   ]
  },
  {
   "cell_type": "code",
   "execution_count": null,
   "metadata": {},
   "outputs": [],
   "source": [
    "len(gdf_regions_offshore)"
   ]
  }
 ],
 "metadata": {
  "kernelspec": {
   "display_name": "pypsa-eur",
   "language": "python",
   "name": "python3"
  },
  "language_info": {
   "codemirror_mode": {
    "name": "ipython",
    "version": 3
   },
   "file_extension": ".py",
   "mimetype": "text/x-python",
   "name": "python",
   "nbconvert_exporter": "python",
   "pygments_lexer": "ipython3",
   "version": "3.12.5"
  }
 },
 "nbformat": 4,
 "nbformat_minor": 2
}
