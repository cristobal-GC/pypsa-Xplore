{
 "cells": [
  {
   "cell_type": "markdown",
   "id": "0",
   "metadata": {},
   "source": [
    "This notebook is to retrieve and plot results across several scenarios."
   ]
  },
  {
   "cell_type": "code",
   "execution_count": null,
   "id": "1",
   "metadata": {},
   "outputs": [],
   "source": [
    "######################################## Parameters\n",
    "\n",
    "### List with names for each case\n",
    "cases_list = [f'ISA_{x}' for x in range(4, -1, -1)]\n",
    "cases_nice_names_list = ['Low', 'Moderate', 'High', 'Very high', 'Maximum']\n",
    "\n",
    "### List of networks to consider\n",
    "network_path_list = [f'results/case_ISA_{x}/networks/base_s_adm___2030.nc' for x in range(4, -1, -1)]\n",
    "\n",
    "### carrier to consider\n",
    "carrier = 'onwind'\n",
    "\n",
    "### Generation feature to consider\n",
    "feature = 'p_nom_max'\n",
    "\n",
    "\n",
    "\n",
    "######################################## Derived parameters\n",
    "\n",
    "### Create a dic with the case name and the network \n",
    "\n",
    "dic = dict(zip(cases_list, network_path_list))"
   ]
  },
  {
   "cell_type": "code",
   "execution_count": null,
   "id": "2",
   "metadata": {},
   "outputs": [],
   "source": [
    "##### Import packages\n",
    "import pypsa\n",
    "import pandas as pd\n",
    "import cartopy.crs as ccrs\n",
    "import geopandas as gpd\n",
    "import matplotlib.pyplot as plt\n",
    "import yaml\n",
    "import os \n",
    "import sys\n",
    "import xarray as xr\n",
    "import seaborn as sns\n",
    "\n",
    "\n",
    "##### Import local functions\n",
    "sys.path.append(os.path.abspath(os.path.join('..')))\n",
    "import functions as xp\n",
    "\n",
    "\n",
    "##### Read params.yaml\n",
    "with open('../params.yaml', 'r') as configfile:\n",
    "    params = yaml.safe_load(configfile)\n",
    "\n",
    "\n",
    "##### Ignore warnings\n",
    "import warnings\n",
    "warnings.filterwarnings('ignore', category=UserWarning)"
   ]
  },
  {
   "cell_type": "code",
   "execution_count": null,
   "id": "3",
   "metadata": {},
   "outputs": [],
   "source": [
    "df_list = []\n",
    "\n",
    "for case, network_path in dic.items():\n",
    "\n",
    "    n = pypsa.Network(f'{params[\"rootpath\"]}{network_path}')\n",
    "\n",
    "    df_local = (n.generators\n",
    "                .loc[n.generators['carrier']==carrier, ['bus', feature]]\n",
    "                .rename(columns={feature: case})\n",
    "                .set_index('bus')\n",
    "                .div(1e3) # GW\n",
    "                )\n",
    "\n",
    "    df_list.append(df_local)\n",
    "\n",
    "\n",
    "df = pd.concat(df_list, axis=1)\n",
    "\n"
   ]
  },
  {
   "cell_type": "code",
   "execution_count": null,
   "id": "4",
   "metadata": {},
   "outputs": [],
   "source": [
    "\n",
    "### sort according to last column\n",
    "df = df.sort_values(by=df.columns[-1], ascending=False)\n",
    "\n",
    "\n",
    "### Rename cases\n",
    "df = df.rename(columns=dict(zip(cases_list, cases_nice_names_list)))"
   ]
  },
  {
   "cell_type": "code",
   "execution_count": null,
   "id": "5",
   "metadata": {},
   "outputs": [],
   "source": [
    "########## Make plot\n",
    "fig, ax = plt.subplots(figsize=(12,6))\n",
    "\n",
    "### Select palette\n",
    "if carrier == 'onwind':\n",
    "    ax.set_title('Onshore wind')\n",
    "    palette = sns.color_palette(\"Blues\", n_colors=len(df.columns))\n",
    "if carrier == 'solar':\n",
    "    ax.set_title('Solar PV')\n",
    "    palette = sns.dark_palette(\"orange\", n_colors=len(df.columns))[::-1]        \n",
    "\n",
    "\n",
    "### Make plot    \n",
    "df.T.plot.area(ax=ax, stacked=True, color=palette)\n",
    "\n",
    "\n",
    "### Get and revert labels in legend\n",
    "handles, labels = ax.get_legend_handles_labels()\n",
    "handles = handles[::-1]\n",
    "labels = labels[::-1]    \n",
    "ax.legend(handles, labels, bbox_to_anchor=(1.05, 1), loc='upper left')\n",
    "\n",
    "\n",
    "### \n",
    "ax.set_title(f'{carrier}')\n",
    "ax.set_xlabel('Environmental sensitivity')\n",
    "ax.set_ylabel('GW')\n",
    "ax.grid(True, linestyle='--', linewidth=0.5, color='black', alpha=0.15)\n",
    "\n",
    "fig.tight_layout()\n",
    "\n",
    "\n",
    "plt.savefig('test.pdf')\n"
   ]
  }
 ],
 "metadata": {
  "kernelspec": {
   "display_name": "curso_Tecnalia",
   "language": "python",
   "name": "python3"
  },
  "language_info": {
   "codemirror_mode": {
    "name": "ipython",
    "version": 3
   },
   "file_extension": ".py",
   "mimetype": "text/x-python",
   "name": "python",
   "nbconvert_exporter": "python",
   "pygments_lexer": "ipython3",
   "version": "3.12.10"
  }
 },
 "nbformat": 4,
 "nbformat_minor": 5
}
