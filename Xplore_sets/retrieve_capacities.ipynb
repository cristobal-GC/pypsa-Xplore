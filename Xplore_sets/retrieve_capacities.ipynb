{
 "cells": [
  {
   "cell_type": "markdown",
   "metadata": {},
   "source": [
    "# Retrieve capacities of a set  of networks"
   ]
  },
  {
   "cell_type": "code",
   "execution_count": null,
   "metadata": {},
   "outputs": [],
   "source": [
    "######################################## Parameters\n",
    "\n",
    "prefix_list = ['add']\n",
    "name_list = ['co2_20', 'co2_15', 'co2_10', 'co2_05']\n",
    "simpl_list = ['']\n",
    "cluster_list = [100]\n",
    "ll_list = ['v1.0']\n",
    "opts_list = ['']\n",
    "sector_opts_list = ['']\n",
    "horizons_list = ['2030']\n",
    "carrier_list = ['onwind', 'offwind-float', 'solar']"
   ]
  },
  {
   "cell_type": "code",
   "execution_count": null,
   "metadata": {},
   "outputs": [],
   "source": [
    "##### Derived parameters\n",
    "dic_lists = {'prefix_list': prefix_list,\n",
    "            'name_list': name_list,\n",
    "            'simpl_list': simpl_list,\n",
    "            'clusters_list': cluster_list,\n",
    "            'll_list': ll_list,\n",
    "            'opts_list': opts_list,\n",
    "            'sector_opts_list': sector_opts_list,\n",
    "            'horizons_list': horizons_list,\n",
    "            'carrier_list': carrier_list,\n",
    "            }"
   ]
  },
  {
   "cell_type": "code",
   "execution_count": null,
   "metadata": {},
   "outputs": [],
   "source": [
    "##### Import packages\n",
    "import yaml\n",
    "import os \n",
    "import sys\n",
    "\n",
    "\n",
    "\n",
    "##### Import local functions\n",
    "sys.path.append(os.path.abspath(os.path.join('..')))\n",
    "import functions as xp\n",
    "\n",
    "\n",
    "##### Read params.yaml\n",
    "with open('../params.yaml', 'r') as configfile:\n",
    "    params = yaml.safe_load(configfile)\n",
    "\n",
    "\n",
    "##### Ignore warnings\n",
    "import warnings\n",
    "warnings.filterwarnings('ignore', category=UserWarning)"
   ]
  },
  {
   "cell_type": "markdown",
   "metadata": {},
   "source": [
    "Retrieve the optimal capacities from the set of networks and show its components."
   ]
  },
  {
   "cell_type": "code",
   "execution_count": null,
   "metadata": {},
   "outputs": [],
   "source": [
    "xd = xp.xd_set_capacities(params['rootpath'], dic_lists)\n",
    "\n",
    "xd"
   ]
  },
  {
   "cell_type": "markdown",
   "metadata": {},
   "source": [
    "Save the data as **.nc** file in folder `data` (create it if it doesn't exist)."
   ]
  },
  {
   "cell_type": "code",
   "execution_count": null,
   "metadata": {},
   "outputs": [],
   "source": [
    "if not os.path.exists('data'):\n",
    "    # Crear la carpeta\n",
    "    os.makedirs('data')\n",
    "    \n",
    "\n",
    "xd.to_netcdf('data/xd_capacities.nc')\n"
   ]
  }
 ],
 "metadata": {
  "kernelspec": {
   "display_name": "pypsa-eur",
   "language": "python",
   "name": "python3"
  },
  "language_info": {
   "codemirror_mode": {
    "name": "ipython",
    "version": 3
   },
   "file_extension": ".py",
   "mimetype": "text/x-python",
   "name": "python",
   "nbconvert_exporter": "python",
   "pygments_lexer": "ipython3",
   "version": "3.12.5"
  }
 },
 "nbformat": 4,
 "nbformat_minor": 2
}
